{
 "cells": [
  {
   "cell_type": "code",
   "execution_count": 1,
   "id": "7afbce10",
   "metadata": {},
   "outputs": [
    {
     "data": {
      "text/plain": [
       "-1"
      ]
     },
     "execution_count": 1,
     "metadata": {},
     "output_type": "execute_result"
    }
   ],
   "source": [
    "import cv2\n",
    "import numpy as np\n",
    "from matplotlib import pyplot as plt\n",
    "\n",
    "'''\n",
    "equalizeHist—直方图均衡化\n",
    "函数原型： equalizeHist(src, dst=None)\n",
    "src：图像矩阵(单通道图像)\n",
    "dst：默认即可\n",
    "'''\n",
    "\n",
    "# # 获取灰度图像\n",
    "# img = cv2.imread(\"562754.jpg\", 1)\n",
    "# gray = cv2.cvtColor(img, cv2.COLOR_BGR2GRAY)\n",
    "# #cv2.imshow(\"image_gray\", gray)\n",
    "\n",
    "# # 灰度图像直方图均衡化\n",
    "# dst = cv2.equalizeHist(gray)\n",
    "\n",
    "# # 直方图\n",
    "# hist = cv2.calcHist([dst],[0],None,[256],[0,256])\n",
    "\n",
    "# plt.figure()\n",
    "# plt.hist(dst.ravel(), 256)\n",
    "# plt.show()\n",
    "\n",
    "# cv2.imshow(\"Histogram Equalization\", np.hstack([gray, dst]))\n",
    "# cv2.waitKey(0)\n",
    "\n",
    "\n",
    "\n",
    "# 彩色图像直方图均衡化\n",
    "img = cv2.imread(\"562754.jpg\", 1)\n",
    "cv2.imshow(\"src\", img)\n",
    "\n",
    "# 彩色图像均衡化,需要分解通道 对每一个通道均衡化\n",
    "(b, g, r) = cv2.split(img)\n",
    "bH = cv2.equalizeHist(b)\n",
    "gH = cv2.equalizeHist(g)\n",
    "rH = cv2.equalizeHist(r)\n",
    "# 合并每一个通道\n",
    "result = cv2.merge((bH, gH, rH))\n",
    "cv2.imshow(\"dst_rgb\", result)\n",
    "\n",
    "cv2.waitKey(0)\n"
   ]
  },
  {
   "cell_type": "code",
   "execution_count": null,
   "id": "d7f807de",
   "metadata": {},
   "outputs": [],
   "source": []
  }
 ],
 "metadata": {
  "kernelspec": {
   "display_name": "Python 3 (ipykernel)",
   "language": "python",
   "name": "python3"
  },
  "language_info": {
   "codemirror_mode": {
    "name": "ipython",
    "version": 3
   },
   "file_extension": ".py",
   "mimetype": "text/x-python",
   "name": "python",
   "nbconvert_exporter": "python",
   "pygments_lexer": "ipython3",
   "version": "3.7.12"
  }
 },
 "nbformat": 4,
 "nbformat_minor": 5
}
