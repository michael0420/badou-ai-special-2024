{
 "cells": [
  {
   "cell_type": "code",
   "execution_count": 1,
   "id": "9b857767",
   "metadata": {},
   "outputs": [],
   "source": [
    "import cv2\n",
    "import numpy as np\n",
    " \n",
    "img = cv2.imread(\"562754.jpg\", 0)\n",
    "\n",
    "'''\n",
    "Sobel函数求完导数后会有负值，还有会大于255的值。\n",
    "而原图像是uint8，即8位无符号数(范围在[0,255])，所以Sobel建立的图像位数不够，会有截断。\n",
    "因此要使用16位有符号的数据类型，即cv2.CV_16S。\n",
    "''' \n",
    "x = cv2.Sobel(img, cv2.CV_16S, 1, 0)\n",
    "y = cv2.Sobel(img, cv2.CV_16S, 0, 1)\n",
    " \n",
    "'''\n",
    "在经过处理后，别忘了用convertScaleAbs()函数将其转回原来的uint8形式。\n",
    "否则将无法显示图像，而只是一副灰色的窗口。\n",
    "dst = cv2.convertScaleAbs(src[, dst[, alpha[, beta]]])  \n",
    "其中可选参数alpha是伸缩系数，beta是加到结果上的一个值。结果返回uint8类型的图片。\n",
    "'''\n",
    "\n",
    "absX = cv2.convertScaleAbs(x)\n",
    "absY = cv2.convertScaleAbs(y)\n",
    "\n",
    "'''\n",
    "由于Sobel算子是在两个方向计算的，最后还需要用cv2.addWeighted(...)函数将其组合起来\n",
    "。其函数原型为：\n",
    "dst = cv2.addWeighted(src1, alpha, src2, beta, gamma[, dst[, dtype]])  \n",
    "其中alpha是第一幅图片中元素的权重，beta是第二个的权重，\n",
    "gamma是加到最后结果上的一个值。\n",
    "'''\n",
    "\n",
    "dst = cv2.addWeighted(absX, 0.5, absY, 0.5, 0)\n",
    " \n",
    "cv2.imshow(\"absX\", absX)\n",
    "cv2.imshow(\"absY\", absY)\n",
    " \n",
    "cv2.imshow(\"Result\", dst)\n",
    " \n",
    "cv2.waitKey(0)\n",
    "cv2.destroyAllWindows()"
   ]
  },
  {
   "cell_type": "code",
   "execution_count": null,
   "id": "76aad8dc",
   "metadata": {},
   "outputs": [],
   "source": []
  }
 ],
 "metadata": {
  "kernelspec": {
   "display_name": "Python 3 (ipykernel)",
   "language": "python",
   "name": "python3"
  },
  "language_info": {
   "codemirror_mode": {
    "name": "ipython",
    "version": 3
   },
   "file_extension": ".py",
   "mimetype": "text/x-python",
   "name": "python",
   "nbconvert_exporter": "python",
   "pygments_lexer": "ipython3",
   "version": "3.7.12"
  }
 },
 "nbformat": 4,
 "nbformat_minor": 5
}
