{
 "cells": [
  {
   "cell_type": "code",
   "execution_count": 1,
   "id": "ac28185e",
   "metadata": {},
   "outputs": [
    {
     "name": "stdout",
     "output_type": "stream",
     "text": [
      "src_h, src_w =  2160 3840\n",
      "dst_h, dst_w =  700 700\n"
     ]
    }
   ],
   "source": [
    "import numpy as np\n",
    "import cv2\n",
    " \n",
    "'''\n",
    "python implementation of bilinear interpolation\n",
    "''' \n",
    "def bilinear_interpolation(img,out_dim):\n",
    "    src_h, src_w, channel = img.shape\n",
    "    dst_h, dst_w = out_dim[1], out_dim[0]\n",
    "    print (\"src_h, src_w = \", src_h, src_w)\n",
    "    print (\"dst_h, dst_w = \", dst_h, dst_w)\n",
    "    if src_h == dst_h and src_w == dst_w:\n",
    "        return img.copy()\n",
    "    dst_img = np.zeros((dst_h,dst_w,3),dtype=np.uint8)\n",
    "    scale_x, scale_y = float(src_w) / dst_w, float(src_h) / dst_h\n",
    "    for i in range(channel):\n",
    "        for dst_y in range(dst_h):\n",
    "            for dst_x in range(dst_w):\n",
    " \n",
    "                # find the origin x and y coordinates of dst image x and y\n",
    "                # use geometric center symmetry\n",
    "                # if use direct way, src_x = dst_x * scale_x\n",
    "                src_x = (dst_x + 0.5) * scale_x-0.5\n",
    "                src_y = (dst_y + 0.5) * scale_y-0.5\n",
    " \n",
    "                # find the coordinates of the points which will be used to compute the interpolation\n",
    "                src_x0 = int(np.floor(src_x))     #np.floor()返回不大于输入参数的最大整数。（向下取整）\n",
    "                src_x1 = min(src_x0 + 1 ,src_w - 1)\n",
    "                src_y0 = int(np.floor(src_y))\n",
    "                src_y1 = min(src_y0 + 1, src_h - 1)\n",
    " \n",
    "                # calculate the interpolation\n",
    "                temp0 = (src_x1 - src_x) * img[src_y0,src_x0,i] + (src_x - src_x0) * img[src_y0,src_x1,i]\n",
    "                temp1 = (src_x1 - src_x) * img[src_y1,src_x0,i] + (src_x - src_x0) * img[src_y1,src_x1,i]\n",
    "                dst_img[dst_y,dst_x,i] = int((src_y1 - src_y) * temp0 + (src_y - src_y0) * temp1)\n",
    " \n",
    "    return dst_img\n",
    " \n",
    " \n",
    "if __name__ == '__main__':\n",
    "    img = cv2.imread('562754.jpg')\n",
    "    dst = bilinear_interpolation(img,(700,700))\n",
    "    cv2.imshow('bilinear interp',dst)\n",
    "    cv2.waitKey()"
   ]
  },
  {
   "cell_type": "code",
   "execution_count": null,
   "id": "8279c188",
   "metadata": {},
   "outputs": [],
   "source": []
  }
 ],
 "metadata": {
  "kernelspec": {
   "display_name": "Python 3 (ipykernel)",
   "language": "python",
   "name": "python3"
  },
  "language_info": {
   "codemirror_mode": {
    "name": "ipython",
    "version": 3
   },
   "file_extension": ".py",
   "mimetype": "text/x-python",
   "name": "python",
   "nbconvert_exporter": "python",
   "pygments_lexer": "ipython3",
   "version": "3.7.12"
  }
 },
 "nbformat": 4,
 "nbformat_minor": 5
}
