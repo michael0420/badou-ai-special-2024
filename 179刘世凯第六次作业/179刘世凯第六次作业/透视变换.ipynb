{
 "cells": [
  {
   "cell_type": "code",
   "execution_count": 1,
   "id": "00682b71",
   "metadata": {},
   "outputs": [
    {
     "name": "stdout",
     "output_type": "stream",
     "text": [
      "warpMatrix\n",
      "[[-5.01338334e-01 -1.35357643e+00  5.82386716e+02]\n",
      " [-1.66533454e-15 -4.84035391e+00  1.38781980e+03]\n",
      " [-4.33680869e-19 -4.14856327e-03  1.00000000e+00]]\n"
     ]
    }
   ],
   "source": [
    "#wrap\n",
    "\n",
    "import numpy as np\n",
    " \n",
    "def WarpPerspectiveMatrix(src, dst):\n",
    "    assert src.shape[0] == dst.shape[0] and src.shape[0] >= 4\n",
    "    \n",
    "    nums = src.shape[0]\n",
    "    A = np.zeros((2*nums, 8)) # A*warpMatrix=B\n",
    "    B = np.zeros((2*nums, 1))\n",
    "    for i in range(0, nums):\n",
    "        A_i = src[i,:]\n",
    "        B_i = dst[i,:]\n",
    "        A[2*i, :] = [A_i[0], A_i[1], 1, 0, 0, 0,\n",
    "                       -A_i[0]*B_i[0], -A_i[1]*B_i[0]]\n",
    "        B[2*i] = B_i[0]\n",
    "        \n",
    "        A[2*i+1, :] = [0, 0, 0, A_i[0], A_i[1], 1,\n",
    "                       -A_i[0]*B_i[1], -A_i[1]*B_i[1]]\n",
    "        B[2*i+1] = B_i[1]\n",
    " \n",
    "    A = np.mat(A)\n",
    "    #用A.I求出A的逆矩阵，然后与B相乘，求出warpMatrix\n",
    "    warpMatrix = A.I * B #求出a_11, a_12, a_13, a_21, a_22, a_23, a_31, a_32\n",
    "    \n",
    "    #之后为结果的后处理\n",
    "    warpMatrix = np.array(warpMatrix).T[0]\n",
    "    warpMatrix = np.insert(warpMatrix, warpMatrix.shape[0], values=1.0, axis=0) #插入a_33 = 1\n",
    "    warpMatrix = warpMatrix.reshape((3, 3))\n",
    "    return warpMatrix\n",
    " \n",
    "if __name__ == '__main__':\n",
    "    print('warpMatrix')\n",
    "    src = [[10.0, 457.0], [395.0, 291.0], [624.0, 291.0], [1000.0, 457.0]]\n",
    "    src = np.array(src)\n",
    "    \n",
    "    dst = [[46.0, 920.0], [46.0, 100.0], [600.0, 100.0], [600.0, 920.0]]\n",
    "    dst = np.array(dst)\n",
    "    \n",
    "    warpMatrix = WarpPerspectiveMatrix(src, dst)\n",
    "    print(warpMatrix)\n"
   ]
  },
  {
   "cell_type": "code",
   "execution_count": 2,
   "id": "bd5bc7b3",
   "metadata": {},
   "outputs": [
    {
     "data": {
      "text/plain": [
       "-1"
      ]
     },
     "execution_count": 2,
     "metadata": {},
     "output_type": "execute_result"
    }
   ],
   "source": [
    "#寻找顶点\n",
    "\n",
    "import cv2\n",
    "#import imutils\n",
    "\n",
    "'''\n",
    "cv2.approxPolyDP() 多边形逼近\n",
    "作用:\n",
    "对目标图像进行近似多边形拟合，使用一个较少顶点的多边形去拟合一个曲线轮廓，要求拟合曲线与实际轮廓曲线的距离小于某一阀值。\n",
    "\n",
    "函数原形：\n",
    "cv2.approxPolyDP(curve, epsilon, closed) -> approxCurve\n",
    "\n",
    "参数：\n",
    "curve ： 图像轮廓点集，一般由轮廓检测得到\n",
    "epsilon ： 原始曲线与近似曲线的最大距离，参数越小，两直线越接近\n",
    "closed ： 得到的近似曲线是否封闭，一般为True\n",
    "\n",
    "返回值：\n",
    "approxCurve ：返回的拟合后的多边形顶点集。\n",
    "'''\n",
    "\n",
    "img = cv2.imread('lenna.png')\n",
    "gray = cv2.cvtColor(img, cv2.COLOR_BGR2GRAY)\n",
    "blurred = cv2.GaussianBlur(gray, (5, 5), 0)\n",
    "dilate = cv2.dilate(blurred, cv2.getStructuringElement(cv2.MORPH_RECT, (3, 3)))\n",
    "edged = cv2.Canny(dilate, 30, 120, 3)            # 边缘检测\n",
    "\n",
    "cnts = cv2.findContours(edged.copy(), cv2.RETR_EXTERNAL, cv2.CHAIN_APPROX_SIMPLE)  # 轮廓检测\n",
    "cnts = cnts[0] \n",
    "#if imutils.is_cv2() else cnts[1]  # 判断是opencv2还是opencv3\n",
    "docCnt = None\n",
    "\n",
    "if len(cnts) > 0:\n",
    "    cnts = sorted(cnts, key=cv2.contourArea, reverse=True) # 根据轮廓面积从大到小排序\n",
    "    for c in cnts:\n",
    "        peri = cv2.arcLength(c, True)                           # 计算轮廓周长\n",
    "        approx = cv2.approxPolyDP(c, 0.02*peri, True)           # 轮廓多边形拟合\n",
    "        # 轮廓为4个点表示找到纸张\n",
    "        if len(approx) == 4:\n",
    "            docCnt = approx\n",
    "            break\n",
    "\n",
    "for peak in docCnt:\n",
    "    peak = peak[0]\n",
    "    cv2.circle(img, tuple(peak), 10, (255, 0, 0))\n",
    "\n",
    "cv2.imshow('img', img)\n",
    "cv2.waitKey(0)\n"
   ]
  },
  {
   "cell_type": "code",
   "execution_count": 3,
   "id": "62254b09",
   "metadata": {},
   "outputs": [
    {
     "name": "stdout",
     "output_type": "stream",
     "text": [
      "(512, 512, 3)\n",
      "warpMatrix:\n",
      "[[ 8.92263779e-01  3.76733596e-01 -2.41585375e+02]\n",
      " [-4.08140258e-01  9.44205073e-01 -5.80899328e+01]\n",
      " [-8.53836442e-05  5.16464182e-05  1.00000000e+00]]\n"
     ]
    },
    {
     "data": {
      "text/plain": [
       "-1"
      ]
     },
     "execution_count": 3,
     "metadata": {},
     "output_type": "execute_result"
    }
   ],
   "source": [
    "#透视变换\n",
    "import cv2\n",
    "import numpy as np\n",
    "\n",
    "img = cv2.imread('lenna.png')\n",
    "\n",
    "result3 = img.copy()\n",
    "\n",
    "'''\n",
    "注意这里src和dst的输入并不是图像，而是图像对应的顶点坐标。\n",
    "'''\n",
    "src = np.float32([[207, 151], [517, 285], [17, 601], [343, 731]])\n",
    "dst = np.float32([[0, 0], [337, 0], [0, 488], [337, 488]])\n",
    "print(img.shape)\n",
    "# 生成透视变换矩阵；进行透视变换\n",
    "m = cv2.getPerspectiveTransform(src, dst)\n",
    "print(\"warpMatrix:\")\n",
    "print(m)\n",
    "result = cv2.warpPerspective(result3, m, (337, 488))\n",
    "cv2.imshow(\"src\", img)\n",
    "cv2.imshow(\"result\", result)\n",
    "cv2.waitKey(0)\n"
   ]
  },
  {
   "cell_type": "code",
   "execution_count": null,
   "id": "25e8731a",
   "metadata": {},
   "outputs": [],
   "source": []
  }
 ],
 "metadata": {
  "kernelspec": {
   "display_name": "Python 3 (ipykernel)",
   "language": "python",
   "name": "python3"
  },
  "language_info": {
   "codemirror_mode": {
    "name": "ipython",
    "version": 3
   },
   "file_extension": ".py",
   "mimetype": "text/x-python",
   "name": "python",
   "nbconvert_exporter": "python",
   "pygments_lexer": "ipython3",
   "version": "3.7.12"
  }
 },
 "nbformat": 4,
 "nbformat_minor": 5
}
