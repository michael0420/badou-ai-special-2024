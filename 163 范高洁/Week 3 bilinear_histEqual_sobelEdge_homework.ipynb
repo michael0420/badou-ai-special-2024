{
 "cells": [
  {
   "cell_type": "code",
   "execution_count": 1,
   "id": "50e1469b",
   "metadata": {},
   "outputs": [],
   "source": [
    "import numpy as np\n",
    "import cv2"
   ]
  },
  {
   "cell_type": "markdown",
   "id": "b41ecd17",
   "metadata": {},
   "source": [
    "# Bilinear interpolation"
   ]
  },
  {
   "cell_type": "code",
   "execution_count": 6,
   "id": "652669db",
   "metadata": {},
   "outputs": [],
   "source": [
    "'''\n",
    "python implementation of bilinear interpolation\n",
    "''' \n",
    "def bilinear_interpolation(img,out_dim): # input image and output dimension\n",
    "    src_h, src_w, channel = img.shape\n",
    "    dst_h, dst_w = out_dim[1], out_dim[0]\n",
    "    print (\"src_h, src_w = \", src_h, src_w)\n",
    "    print (\"dst_h, dst_w = \", dst_h, dst_w)\n",
    "    if src_h == dst_h and src_w == dst_w:\n",
    "        return img.copy()\n",
    "    dst_img = np.zeros((dst_h,dst_w,3),dtype=np.uint8)\n",
    "    scale_x, scale_y = float(src_w) / dst_w, float(src_h) / dst_h # calculate scaling factor\n",
    "    for i in range(channel):\n",
    "        for dst_y in range(dst_h):\n",
    "            for dst_x in range(dst_w):\n",
    " \n",
    "                # find the origin x and y coordinates of dst image x and y\n",
    "                # use geometric center symmetry\n",
    "                # if use direct way, src_x = dst_x * scale_x\n",
    "                # not necessary, but makes better interpolation\n",
    "                src_x = (dst_x + 0.5) * scale_x-0.5 # find corresponding src pixel based on dst pixel\n",
    "                src_y = (dst_y + 0.5) * scale_y-0.5\n",
    " \n",
    "                # find the coordinates of the points which will be used to compute the interpolation\n",
    "                # not necessary, but prevents errors\n",
    "                src_x0 = int(np.floor(src_x))     #np.floor()返回不大于输入参数的最大整数。（向下取整）\n",
    "                src_x1 = min(src_x0 + 1 ,src_w - 1) #if exceeding edges, use the edge value\n",
    "                src_y0 = int(np.floor(src_y))\n",
    "                src_y1 = min(src_y0 + 1, src_h - 1)\n",
    " \n",
    "                # calculate the interpolation\n",
    "                temp0 = (src_x1 - src_x) * img[src_y0,src_x0,i] + (src_x - src_x0) * img[src_y0,src_x1,i]\n",
    "                temp1 = (src_x1 - src_x) * img[src_y1,src_x0,i] + (src_x - src_x0) * img[src_y1,src_x1,i]\n",
    "                dst_img[dst_y,dst_x,i] = int((src_y1 - src_y) * temp0 + (src_y - src_y0) * temp1)\n",
    " \n",
    "    return dst_img"
   ]
  },
  {
   "cell_type": "code",
   "execution_count": 8,
   "id": "893eb0a9",
   "metadata": {},
   "outputs": [
    {
     "name": "stdout",
     "output_type": "stream",
     "text": [
      "src_h, src_w =  358 637\n",
      "dst_h, dst_w =  700 700\n"
     ]
    }
   ],
   "source": [
    "if __name__ == '__main__':\n",
    "    img = cv2.imread('download.jpeg')\n",
    "    dst = bilinear_interpolation(img,(700,700))\n",
    "    cv2.imshow('bilinear interp',dst)\n",
    "    cv2.waitKey()"
   ]
  },
  {
   "cell_type": "markdown",
   "id": "e60875ca",
   "metadata": {},
   "source": [
    "# Histogram Equalization"
   ]
  },
  {
   "cell_type": "code",
   "execution_count": 9,
   "id": "d89e6048",
   "metadata": {},
   "outputs": [],
   "source": [
    "from matplotlib import pyplot as plt"
   ]
  },
  {
   "cell_type": "code",
   "execution_count": 21,
   "id": "47f031ce",
   "metadata": {},
   "outputs": [
    {
     "data": {
      "text/plain": [
       "-1"
      ]
     },
     "execution_count": 21,
     "metadata": {},
     "output_type": "execute_result"
    }
   ],
   "source": [
    "img = cv2.imread('download.jpeg')\n",
    "\n",
    "# histogram\n",
    "hist, bins = np.histogram(img.flatten(), bins = 256, range = [0, 256])\n",
    "\n",
    "# cumulate\n",
    "cdf = hist.cumsum()\n",
    "cdf_normalize = cdf / float(cdf.max())\n",
    "\n",
    "# equalization\n",
    "img_equal = np.interp(img.flatten(), bins[:-1], cdf_normalize * 255).astype(np.uint8)\n",
    "img_equal = img_equal.reshape(img.shape) # reshape back to original shape\n",
    "\n",
    "# show\n",
    "cv2.imshow('hist equalization', img_equal)\n",
    "cv2.waitKey()"
   ]
  },
  {
   "cell_type": "markdown",
   "id": "291b8807",
   "metadata": {},
   "source": [
    "## Sobel"
   ]
  },
  {
   "cell_type": "code",
   "execution_count": 27,
   "id": "19c0fd49",
   "metadata": {},
   "outputs": [],
   "source": [
    "img = cv2.imread('download.jpeg', 0) # 0 reads the image in grayscale\n",
    "\n",
    "# sobel\n",
    "sobel_x = cv2.Sobel(img, cv2.CV_64F, 1, 0, ksize = 3)\n",
    "sobel_y = cv2.Sobel(img, cv2.CV_64F, 0, 1, ksize = 3)\n",
    "\n",
    "# convert back to uint8\n",
    "sobel_x = np.uint8(np.absolute(sobel_x))\n",
    "sobel_y = np.uint8(np.absolute(sobel_y))\n",
    "# or\n",
    "# sobel_x = cv2.convertScaleAbs(x)\n",
    "\n",
    "# combine the two directions\n",
    "img_result = cv2.bitwise_or(sobel_x, sobel_y)\n",
    "# or\n",
    "# img_result = cv2.addWeighted(sobel_x, 0.5, sobel_y, 0.5, 0)\n",
    "\n",
    "\n",
    "cv2.imshow('sobel_x',sobel_x)\n",
    "cv2.imshow('sobel_y',sobel_y)\n",
    "cv2.imshow('image',img_result)\n",
    "cv2.waitKey()\n",
    "cv2.destroyAllWindows()"
   ]
  },
  {
   "cell_type": "code",
   "execution_count": null,
   "id": "d8b07715",
   "metadata": {},
   "outputs": [],
   "source": []
  }
 ],
 "metadata": {
  "jupytext": {
   "cell_metadata_filter": "-all",
   "encoding": "# -*- coding: utf-8 -*-",
   "executable": "/usr/bin/python",
   "main_language": "python",
   "notebook_metadata_filter": "-all"
  },
  "kernelspec": {
   "display_name": "Python 3 (ipykernel)",
   "language": "python",
   "name": "python3"
  },
  "language_info": {
   "codemirror_mode": {
    "name": "ipython",
    "version": 3
   },
   "file_extension": ".py",
   "mimetype": "text/x-python",
   "name": "python",
   "nbconvert_exporter": "python",
   "pygments_lexer": "ipython3",
   "version": "3.7.1"
  }
 },
 "nbformat": 4,
 "nbformat_minor": 5
}
