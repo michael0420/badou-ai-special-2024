{
 "cells": [
  {
   "cell_type": "code",
   "execution_count": 3,
   "id": "18f97504",
   "metadata": {},
   "outputs": [
    {
     "data": {
      "text/plain": [
       "-1"
      ]
     },
     "execution_count": 3,
     "metadata": {},
     "output_type": "execute_result"
    }
   ],
   "source": [
    "import numpy as np\n",
    "import cv2\n",
    "from numpy import shape\n",
    "import random\n",
    "def  fun1(src,percetage):     \n",
    "    NoiseImg=src    \n",
    "    NoiseNum=int(percetage*src.shape[0]*src.shape[1])    \n",
    "    for i in range(NoiseNum): \n",
    "\n",
    "\t    randX=random.randint(0,src.shape[0]-1)       \n",
    "\t    randY=random.randint(0,src.shape[1]-1) \n",
    " \n",
    "\t    if random.random()<=0.5:           \n",
    "\t    \tNoiseImg[randX,randY]=0       \n",
    "\t    else:            \n",
    "\t    \tNoiseImg[randX,randY]=255    \n",
    "    return NoiseImg\n",
    "\n",
    "img=cv2.imread('lenna.png',0)\n",
    "img1=fun1(img,0.8)\n",
    "\n",
    "img = cv2.imread('lenna.png')\n",
    "img2 = cv2.cvtColor(img, cv2.COLOR_BGR2GRAY)\n",
    "cv2.imshow('source',img2)\n",
    "cv2.imshow('lenna_PepperandSalt',img1)\n",
    "cv2.waitKey(0)"
   ]
  },
  {
   "cell_type": "code",
   "execution_count": null,
   "id": "08d6e912",
   "metadata": {},
   "outputs": [],
   "source": []
  }
 ],
 "metadata": {
  "kernelspec": {
   "display_name": "Python 3 (ipykernel)",
   "language": "python",
   "name": "python3"
  },
  "language_info": {
   "codemirror_mode": {
    "name": "ipython",
    "version": 3
   },
   "file_extension": ".py",
   "mimetype": "text/x-python",
   "name": "python",
   "nbconvert_exporter": "python",
   "pygments_lexer": "ipython3",
   "version": "3.7.12"
  }
 },
 "nbformat": 4,
 "nbformat_minor": 5
}
