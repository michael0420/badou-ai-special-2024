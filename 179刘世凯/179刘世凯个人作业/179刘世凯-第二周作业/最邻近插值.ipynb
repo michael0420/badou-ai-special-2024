{
 "cells": [
  {
   "cell_type": "code",
   "execution_count": 1,
   "id": "dd491ac4",
   "metadata": {},
   "outputs": [
    {
     "name": "stdout",
     "output_type": "stream",
     "text": [
      "[[[125 137 226]\n",
      "  [125 137 226]\n",
      "  [125 137 226]\n",
      "  ...\n",
      "  [110 130 221]\n",
      "  [ 90  99 200]\n",
      "  [ 90  99 200]]\n",
      "\n",
      " [[125 137 226]\n",
      "  [125 137 226]\n",
      "  [125 137 226]\n",
      "  ...\n",
      "  [110 130 221]\n",
      "  [ 90  99 200]\n",
      "  [ 90  99 200]]\n",
      "\n",
      " [[125 137 226]\n",
      "  [125 137 226]\n",
      "  [125 137 226]\n",
      "  ...\n",
      "  [110 130 221]\n",
      "  [ 90  99 200]\n",
      "  [ 90  99 200]]\n",
      "\n",
      " ...\n",
      "\n",
      " [[ 57  22  82]\n",
      "  [ 57  22  82]\n",
      "  [ 57  22  82]\n",
      "  ...\n",
      "  [ 81  71 181]\n",
      "  [ 81  74 185]\n",
      "  [ 81  74 185]]\n",
      "\n",
      " [[ 57  22  82]\n",
      "  [ 57  22  82]\n",
      "  [ 57  22  82]\n",
      "  ...\n",
      "  [ 81  71 181]\n",
      "  [ 81  74 185]\n",
      "  [ 81  74 185]]\n",
      "\n",
      " [[ 57  22  82]\n",
      "  [ 57  22  82]\n",
      "  [ 57  22  82]\n",
      "  ...\n",
      "  [ 81  71 181]\n",
      "  [ 81  74 185]\n",
      "  [ 81  74 185]]]\n",
      "(800, 800, 3)\n"
     ]
    },
    {
     "data": {
      "text/plain": [
       "-1"
      ]
     },
     "execution_count": 1,
     "metadata": {},
     "output_type": "execute_result"
    }
   ],
   "source": [
    "\n",
    "import cv2\n",
    "import numpy as np\n",
    "def function(img):\n",
    "    height,width,channels =img.shape\n",
    "    emptyImage=np.zeros((800,800,channels),np.uint8)\n",
    "    sh=800/height\n",
    "    sw=800/width\n",
    "    for i in range(800):\n",
    "        for j in range(800):\n",
    "            x=int(i/sh + 0.5)  #int(),转为整型，使用向下取整。\n",
    "            y=int(j/sw + 0.5)\n",
    "            emptyImage[i,j]=img[x,y]\n",
    "    return emptyImage\n",
    "    \n",
    "# cv2.resize(img, (800,800,c),near/bin)\n",
    "\n",
    "img=cv2.imread(\"lenna.png\")\n",
    "zoom=function(img)\n",
    "print(zoom)\n",
    "print(zoom.shape)\n",
    "cv2.imshow(\"nearest interp\",zoom)\n",
    "cv2.imshow(\"image\",img)\n",
    "cv2.waitKey(0)"
   ]
  },
  {
   "cell_type": "code",
   "execution_count": null,
   "id": "5635118f",
   "metadata": {},
   "outputs": [],
   "source": []
  }
 ],
 "metadata": {
  "kernelspec": {
   "display_name": "Python 3 (ipykernel)",
   "language": "python",
   "name": "python3"
  },
  "language_info": {
   "codemirror_mode": {
    "name": "ipython",
    "version": 3
   },
   "file_extension": ".py",
   "mimetype": "text/x-python",
   "name": "python",
   "nbconvert_exporter": "python",
   "pygments_lexer": "ipython3",
   "version": "3.7.12"
  }
 },
 "nbformat": 4,
 "nbformat_minor": 5
}
