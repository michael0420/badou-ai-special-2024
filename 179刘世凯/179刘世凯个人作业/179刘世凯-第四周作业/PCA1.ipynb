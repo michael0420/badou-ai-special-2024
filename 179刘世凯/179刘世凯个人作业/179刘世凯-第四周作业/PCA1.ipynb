{
 "cells": [
  {
   "cell_type": "code",
   "execution_count": 1,
   "id": "bfe7f027",
   "metadata": {},
   "outputs": [
    {
     "name": "stdout",
     "output_type": "stream",
     "text": [
      "[[  7.96504337  -4.12166867]\n",
      " [ -0.43650137  -2.07052079]\n",
      " [-13.63653266  -1.86686164]\n",
      " [-22.28361821   2.32219188]\n",
      " [  3.47849303   3.95193502]\n",
      " [ 24.91311585   1.78492421]]\n"
     ]
    }
   ],
   "source": [
    "import numpy as np\n",
    "class PCA():\n",
    "    def __init__(self,n_components):\n",
    "        self.n_components = n_components\n",
    "    \n",
    "    def fit_transform(self,X):\n",
    "        self.n_features_ = X.shape[1]\n",
    "        # 求协方差矩阵\n",
    "        X = X - X.mean(axis=0)\n",
    "        self.covariance = np.dot(X.T,X)/X.shape[0]\n",
    "        # 求协方差矩阵的特征值和特征向量\n",
    "        eig_vals,eig_vectors = np.linalg.eig(self.covariance)\n",
    "        # 获得降序排列特征值的序号\n",
    "        idx = np.argsort(-eig_vals)\n",
    "        # 降维矩阵\n",
    "        self.components_ = eig_vectors[:,idx[:self.n_components]]\n",
    "        # 对X进行降维\n",
    "        return np.dot(X,self.components_)\n",
    " \n",
    "# 调用\n",
    "pca = PCA(n_components=2)\n",
    "X = np.array([[-1,2,66,-1], [-2,6,58,-1], [-3,8,45,-2], [1,9,36,1], [2,10,62,1], [3,5,83,2]])  #导入数据，维度为4\n",
    "newX=pca.fit_transform(X)\n",
    "print(newX)"
   ]
  },
  {
   "cell_type": "code",
   "execution_count": null,
   "id": "e6e678ae",
   "metadata": {},
   "outputs": [],
   "source": []
  }
 ],
 "metadata": {
  "kernelspec": {
   "display_name": "Python 3 (ipykernel)",
   "language": "python",
   "name": "python3"
  },
  "language_info": {
   "codemirror_mode": {
    "name": "ipython",
    "version": 3
   },
   "file_extension": ".py",
   "mimetype": "text/x-python",
   "name": "python",
   "nbconvert_exporter": "python",
   "pygments_lexer": "ipython3",
   "version": "3.7.12"
  }
 },
 "nbformat": 4,
 "nbformat_minor": 5
}
