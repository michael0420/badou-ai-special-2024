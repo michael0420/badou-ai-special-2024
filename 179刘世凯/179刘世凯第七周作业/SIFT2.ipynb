{
 "cells": [
  {
   "cell_type": "code",
   "execution_count": 2,
   "id": "7654f1fa",
   "metadata": {},
   "outputs": [],
   "source": [
    "import cv2\n",
    "import numpy as np\n",
    " \n",
    "def drawMatchesKnn_cv2(img1_gray,kp1,img2_gray,kp2,goodMatch):\n",
    "    h1, w1 = img1_gray.shape[:2]\n",
    "    h2, w2 = img2_gray.shape[:2]\n",
    " \n",
    "    vis = np.zeros((max(h1, h2), w1 + w2, 3), np.uint8)\n",
    "    vis[:h1, :w1] = img1_gray\n",
    "    vis[:h2, w1:w1 + w2] = img2_gray\n",
    " \n",
    "    p1 = [kpp.queryIdx for kpp in goodMatch]\n",
    "    p2 = [kpp.trainIdx for kpp in goodMatch]\n",
    " \n",
    "    post1 = np.int32([kp1[pp].pt for pp in p1])\n",
    "    post2 = np.int32([kp2[pp].pt for pp in p2]) + (w1, 0)\n",
    " \n",
    "    for (x1, y1), (x2, y2) in zip(post1, post2):\n",
    "        cv2.line(vis, (x1, y1), (x2, y2), (0,0,255))\n",
    " \n",
    "    cv2.namedWindow(\"match\",cv2.WINDOW_NORMAL)\n",
    "    cv2.imshow(\"match\", vis)\n",
    " \n",
    "img1_gray = cv2.imread(\"iphone1.png\")\n",
    "img2_gray = cv2.imread(\"iphone2.png\")\n",
    " \n",
    "\n",
    "sift = cv2.SIFT_create()\n",
    "\n",
    " \n",
    "kp1, des1 = sift.detectAndCompute(img1_gray, None)\n",
    "kp2, des2 = sift.detectAndCompute(img2_gray, None)\n",
    " \n",
    "\n",
    "bf = cv2.BFMatcher(cv2.NORM_L2)\n",
    "\n",
    "matches = bf.knnMatch(des1, des2, k = 2)\n",
    "\n",
    "goodMatch = []\n",
    "for m,n in matches:\n",
    "    if m.distance < 0.50*n.distance:\n",
    "        goodMatch.append(m)\n",
    " \n",
    "drawMatchesKnn_cv2(img1_gray,kp1,img2_gray,kp2,goodMatch[:20])\n",
    " \n",
    "cv2.waitKey(0)\n",
    "cv2.destroyAllWindows()\n"
   ]
  },
  {
   "cell_type": "code",
   "execution_count": null,
   "id": "80ea6a83",
   "metadata": {},
   "outputs": [],
   "source": []
  }
 ],
 "metadata": {
  "kernelspec": {
   "display_name": "Python 3 (ipykernel)",
   "language": "python",
   "name": "python3"
  },
  "language_info": {
   "codemirror_mode": {
    "name": "ipython",
    "version": 3
   },
   "file_extension": ".py",
   "mimetype": "text/x-python",
   "name": "python",
   "nbconvert_exporter": "python",
   "pygments_lexer": "ipython3",
   "version": "3.7.12"
  }
 },
 "nbformat": 4,
 "nbformat_minor": 5
}
