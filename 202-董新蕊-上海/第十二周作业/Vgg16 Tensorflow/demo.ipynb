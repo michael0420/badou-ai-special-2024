{
 "cells": [
  {
   "cell_type": "code",
   "execution_count": 1,
   "id": "66c22cd1",
   "metadata": {},
   "outputs": [
    {
     "name": "stderr",
     "output_type": "stream",
     "text": [
      "E:\\AISTUDYING\\anaconda3\\envs\\tensorflow\\lib\\site-packages\\h5py\\__init__.py:36: FutureWarning: Conversion of the second argument of issubdtype from `float` to `np.floating` is deprecated. In future, it will be treated as `np.float64 == np.dtype(float).type`.\n",
      "  from ._conv import register_converters as _register_converters\n"
     ]
    }
   ],
   "source": [
    "from VGG16 import vgg_16\n",
    "import numpy as np\n",
    "import utils\n",
    "import tensorflow as tf"
   ]
  },
  {
   "cell_type": "code",
   "execution_count": 2,
   "id": "e8dc0f57",
   "metadata": {
    "scrolled": true
   },
   "outputs": [
    {
     "name": "stdout",
     "output_type": "stream",
     "text": [
      "INFO:tensorflow:Restoring parameters from vgg_16.ckpt\n",
      "result:\n",
      "top1: n02099601 golden retriever 0.9916732\n",
      "top5 [('n02099601 golden retriever', 0.9916732), ('n02099712 Labrador retriever', 0.0072889337), ('n02104029 kuvasz', 0.00023102872), ('n02099849 Chesapeake Bay retriever', 0.00014720988), ('n02102480 Sussex spaniel', 0.00011980172)]\n"
     ]
    }
   ],
   "source": [
    "img = utils.load_image('dog.jpg')\n",
    "inputs = tf.placeholder(tf.float32, [None, None,3])\n",
    "#对图片进行resize\n",
    "resized_img = utils.resized_img(inputs, (224,224),\n",
    "                                method=tf.image.ResizeMethod.BILINEAR,align_corners=False)\n",
    "\n",
    "prediction = vgg_16(resized_img)\n",
    "\n",
    "with tf.Session() as sess:\n",
    "    \n",
    "    ckpt_filename = 'vgg_16.ckpt'\n",
    "    sess.run(tf.global_variables_initializer())\n",
    "    saver = tf.train.Saver()\n",
    "    saver.restore(sess, ckpt_filename)\n",
    "    \n",
    "    \n",
    "    pro = tf.nn.softmax(prediction)\n",
    "    pre = sess.run(pro, feed_dict={inputs:img})\n",
    "    \n",
    "    print('result:')\n",
    "    utils.print_prob(pre[0], 'synset.txt')"
   ]
  }
 ],
 "metadata": {
  "kernelspec": {
   "display_name": "Python 3",
   "language": "python",
   "name": "python3"
  },
  "language_info": {
   "codemirror_mode": {
    "name": "ipython",
    "version": 3
   },
   "file_extension": ".py",
   "mimetype": "text/x-python",
   "name": "python",
   "nbconvert_exporter": "python",
   "pygments_lexer": "ipython3",
   "version": "3.6.13"
  }
 },
 "nbformat": 4,
 "nbformat_minor": 5
}
