{
 "cells": [
  {
   "cell_type": "code",
   "execution_count": 1,
   "id": "cd54854a",
   "metadata": {},
   "outputs": [
    {
     "name": "stderr",
     "output_type": "stream",
     "text": [
      "E:\\AISTUDYING\\anaconda3\\envs\\tensorflow\\lib\\site-packages\\h5py\\__init__.py:36: FutureWarning: Conversion of the second argument of issubdtype from `float` to `np.floating` is deprecated. In future, it will be treated as `np.float64 == np.dtype(float).type`.\n",
      "  from ._conv import register_converters as _register_converters\n",
      "Using TensorFlow backend.\n"
     ]
    }
   ],
   "source": [
    "import cv2\n",
    "import utils\n",
    "import numpy as np\n",
    "from keras import backend as K\n",
    "from AlexNet import AlexNet"
   ]
  },
  {
   "cell_type": "code",
   "execution_count": 2,
   "id": "91b3f97b",
   "metadata": {},
   "outputs": [],
   "source": [
    "K.set_image_dim_ordering('tf')"
   ]
  },
  {
   "cell_type": "code",
   "execution_count": 3,
   "id": "fb3915f0",
   "metadata": {},
   "outputs": [
    {
     "name": "stdout",
     "output_type": "stream",
     "text": [
      "猫\n",
      "猫\n"
     ]
    }
   ],
   "source": [
    "if __name__ == '__main__':\n",
    "    #训练好的模型，加载权重\n",
    "    model = AlexNet()\n",
    "    model.load_weights(\"last1.h5\")\n",
    "    #读取要预测的图片\n",
    "    img = cv2.imread('Test.jpg')\n",
    "    \n",
    "    cv2.imshow('image', img)\n",
    "    cv2.waitKey(0)\n",
    "    \n",
    "    #和训练图片同样操作 转换rgb 归一化 处理维度\n",
    "    img_RGB = cv2.cvtColor(img, cv2.COLOR_BGR2RGB)\n",
    "    img_nor = img_RGB/255\n",
    "    img_nor = np.expand_dims(img_nor, axis = 0)\n",
    "    \n",
    "    #调整尺寸\n",
    "    img_resize = utils.resize_image(img_nor, (224,224))\n",
    "    #开始预测，并根据预测的信息获取输出的预测类别\n",
    "    predicted_answer = utils.print_answer(np.argmax(model.predict(img_resize)))\n",
    "    \n",
    "    print(predicted_answer)\n"
   ]
  },
  {
   "cell_type": "code",
   "execution_count": null,
   "id": "2de6451c",
   "metadata": {},
   "outputs": [],
   "source": []
  }
 ],
 "metadata": {
  "kernelspec": {
   "display_name": "Python 3",
   "language": "python",
   "name": "python3"
  },
  "language_info": {
   "codemirror_mode": {
    "name": "ipython",
    "version": 3
   },
   "file_extension": ".py",
   "mimetype": "text/x-python",
   "name": "python",
   "nbconvert_exporter": "python",
   "pygments_lexer": "ipython3",
   "version": "3.6.13"
  }
 },
 "nbformat": 4,
 "nbformat_minor": 5
}
