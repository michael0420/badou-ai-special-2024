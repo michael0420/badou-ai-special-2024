{
 "cells": [
  {
   "cell_type": "code",
   "execution_count": 2,
   "id": "8ca472d0",
   "metadata": {},
   "outputs": [],
   "source": [
    "import os"
   ]
  },
  {
   "cell_type": "code",
   "execution_count": 5,
   "id": "f5fee683",
   "metadata": {},
   "outputs": [],
   "source": [
    "photos = os.listdir(\"./data/image/train/\")\n",
    "with open ('data/dataset.txt', 'w') as f:\n",
    "    #打开文件夹，写入模式\n",
    "    for photo in photos:\n",
    "        name = photo.split('.')[0]\n",
    "        if name == 'cat':\n",
    "            f.write(name + ';0\\n')\n",
    "        if name == 'dog':\n",
    "            f.write(name + ';1\\n')\n",
    "f.close()  "
   ]
  },
  {
   "cell_type": "code",
   "execution_count": null,
   "id": "123ccf56",
   "metadata": {},
   "outputs": [],
   "source": [
    "cat;0\n",
    "cat;0\n",
    "cat;0\n",
    "dog;1\n",
    "dog;1\n",
    "dog;1"
   ]
  }
 ],
 "metadata": {
  "kernelspec": {
   "display_name": "Python 3",
   "language": "python",
   "name": "python3"
  },
  "language_info": {
   "codemirror_mode": {
    "name": "ipython",
    "version": 3
   },
   "file_extension": ".py",
   "mimetype": "text/x-python",
   "name": "python",
   "nbconvert_exporter": "python",
   "pygments_lexer": "ipython3",
   "version": "3.6.13"
  }
 },
 "nbformat": 4,
 "nbformat_minor": 5
}
