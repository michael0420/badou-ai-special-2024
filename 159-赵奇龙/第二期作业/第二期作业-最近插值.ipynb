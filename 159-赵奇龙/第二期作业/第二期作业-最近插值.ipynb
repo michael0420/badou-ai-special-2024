{
 "cells": [
  {
   "cell_type": "code",
   "execution_count": 23,
   "id": "4013e14a",
   "metadata": {},
   "outputs": [],
   "source": [
    "import cv2\n",
    "import numpy as np "
   ]
  },
  {
   "cell_type": "code",
   "execution_count": 26,
   "id": "087fed0d",
   "metadata": {},
   "outputs": [],
   "source": [
    "def function(img):\n",
    "    height,width,channels =img.shape  #读取图像长、宽、通道数\n",
    "    emptyImage=np.zeros((800,800,channels),np.uint8)  #创建800*800的0矩阵\n",
    "# print(emptyImage)\n",
    "\n",
    "    sh=800/height\n",
    "    sw=800/width\n",
    "    for i in range(800):\n",
    "        for j in range(800):\n",
    "            x=int(i/sh + 0.5)  #int(),转为整型，使用向下取整。\n",
    "            y=int(j/sw + 0.5)\n",
    "            emptyImage[i,j]=img[x,y]\n",
    "    return emptyImage"
   ]
  },
  {
   "cell_type": "code",
   "execution_count": 8,
   "id": "4916ab91",
   "metadata": {},
   "outputs": [
    {
     "data": {
      "text/plain": [
       "-1"
      ]
     },
     "execution_count": 8,
     "metadata": {},
     "output_type": "execute_result"
    }
   ],
   "source": [
    "img=cv2.imread(\"lenna.png\")\n",
    "zoom=function(img)\n",
    "# print(zoom)\n",
    "# print(zoom.shape)\n",
    "cv2.imshow(\"nearest interp\",zoom) #输出最近插值法图像\n",
    "cv2.imshow(\"image\",img)   #输出原图像\n",
    "cv2.waitKey(0)"
   ]
  },
  {
   "cell_type": "code",
   "execution_count": null,
   "id": "85561e22",
   "metadata": {},
   "outputs": [],
   "source": []
  }
 ],
 "metadata": {
  "kernelspec": {
   "display_name": "badou",
   "language": "python",
   "name": "badou"
  },
  "language_info": {
   "codemirror_mode": {
    "name": "ipython",
    "version": 3
   },
   "file_extension": ".py",
   "mimetype": "text/x-python",
   "name": "python",
   "nbconvert_exporter": "python",
   "pygments_lexer": "ipython3",
   "version": "3.7.1"
  }
 },
 "nbformat": 4,
 "nbformat_minor": 5
}
