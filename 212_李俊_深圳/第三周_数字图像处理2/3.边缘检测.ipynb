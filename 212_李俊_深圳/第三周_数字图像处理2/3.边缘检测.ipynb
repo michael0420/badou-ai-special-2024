{
 "cells": [
  {
   "cell_type": "code",
   "execution_count": 1,
   "id": "initial_id",
   "metadata": {
    "collapsed": true,
    "ExecuteTime": {
     "end_time": "2024-04-10T10:37:27.204909100Z",
     "start_time": "2024-04-10T10:37:16.179296100Z"
    }
   },
   "outputs": [],
   "source": [
    "import cv2\n",
    "import  numpy as np\n",
    "img = cv2.imread(r\"C:\\Users\\Administrator\\Desktop\\lenna.png\")\n",
    "x = cv2.Sobel(img,cv2.CV_16S,1,0)\n",
    "y = cv2.Sobel(img,cv2.CV_16S,0,1)\n",
    "\n",
    "absX = cv2.convertScaleAbs(x)\n",
    "absY = cv2.convertScaleAbs(y)\n",
    "dst = cv2.addWeighted(absX, 0.5, absY, 0.5, 0)\n",
    " \n",
    "cv2.imshow(\"absX\", absX)\n",
    "cv2.imshow(\"absY\", absY)\n",
    " \n",
    "cv2.imshow(\"Result\", dst)\n",
    " \n",
    "cv2.waitKey(0)\n",
    "cv2.destroyAllWindows()"
   ]
  }
 ],
 "metadata": {
  "kernelspec": {
   "display_name": "Python 3",
   "language": "python",
   "name": "python3"
  },
  "language_info": {
   "codemirror_mode": {
    "name": "ipython",
    "version": 2
   },
   "file_extension": ".py",
   "mimetype": "text/x-python",
   "name": "python",
   "nbconvert_exporter": "python",
   "pygments_lexer": "ipython2",
   "version": "2.7.6"
  }
 },
 "nbformat": 4,
 "nbformat_minor": 5
}
