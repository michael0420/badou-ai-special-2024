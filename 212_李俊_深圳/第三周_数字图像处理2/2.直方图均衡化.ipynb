{
 "cells": [
  {
   "cell_type": "code",
   "execution_count": 1,
   "outputs": [],
   "source": [
    "import cv2\n",
    "import numpy as np\n",
    "from matplotlib import pyplot as plt"
   ],
   "metadata": {
    "collapsed": false,
    "ExecuteTime": {
     "end_time": "2024-04-10T10:25:33.545578600Z",
     "start_time": "2024-04-10T10:25:32.870757Z"
    }
   },
   "id": "34161c6127ccbfd3"
  },
  {
   "cell_type": "code",
   "execution_count": 2,
   "outputs": [],
   "source": [
    "#获取灰度图像\n",
    "img = cv2.imread(r\"C:\\Users\\Administrator\\Desktop\\lenna.png\")\n",
    "gray =  cv2.cvtColor(img,cv2.COLOR_BGR2GRAY)\n",
    "cv2.imshow('img_gray',gray)\n"
   ],
   "metadata": {
    "collapsed": false,
    "ExecuteTime": {
     "end_time": "2024-04-10T10:25:33.912292100Z",
     "start_time": "2024-04-10T10:25:33.856340500Z"
    }
   },
   "id": "9388fd8833e5b3e5"
  },
  {
   "cell_type": "code",
   "execution_count": 3,
   "outputs": [
    {
     "data": {
      "text/plain": "<Figure size 640x480 with 1 Axes>",
      "image/png": "[encoded data removed]"
     },
     "metadata": {},
     "output_type": "display_data"
    }
   ],
   "source": [
    "#灰度图像直方图均衡化\n",
    "dst = cv2.equalizeHist(gray)\n",
    "#直方图\n",
    "hist = cv2.calcHist([img],[0],None,[256],[0,256])\n",
    "plt.figure()\n",
    "plt.hist(dst.ravel(),256)\n",
    "plt.show()"
   ],
   "metadata": {
    "collapsed": false,
    "ExecuteTime": {
     "end_time": "2024-04-10T10:28:07.591274100Z",
     "start_time": "2024-04-10T10:28:06.875152800Z"
    }
   },
   "id": "59c93676bba65ec3"
  },
  {
   "cell_type": "code",
   "execution_count": 5,
   "outputs": [
    {
     "data": {
      "text/plain": "-1"
     },
     "execution_count": 5,
     "metadata": {},
     "output_type": "execute_result"
    }
   ],
   "source": [
    "cv2.imshow(\"Histogram Equalization\", np.hstack([gray, dst]))\n",
    "cv2.waitKey(0)"
   ],
   "metadata": {
    "collapsed": false,
    "ExecuteTime": {
     "end_time": "2024-04-10T10:32:22.652679Z",
     "start_time": "2024-04-10T10:32:19.819476100Z"
    }
   },
   "id": "dc820a79aa251a64"
  },
  {
   "cell_type": "code",
   "execution_count": 6,
   "outputs": [
    {
     "data": {
      "text/plain": "-1"
     },
     "execution_count": 6,
     "metadata": {},
     "output_type": "execute_result"
    }
   ],
   "source": [
    "#彩色图像直方图均衡化\n",
    "img = cv2.imread(r\"C:\\Users\\Administrator\\Desktop\\lenna.png\")\n",
    "cv2.imshow('src',img)\n",
    "\n",
    "#彩色图像均衡化，需要分解通道，对每一个通道均衡化\n",
    "(b,g,r) = cv2.split(img)\n",
    "bH = cv2.equalizeHist(b)\n",
    "gH = cv2.equalizeHist(g)\n",
    "rH = cv2.equalizeHist(r)\n",
    "#合并每一个通道\n",
    "result = cv2.merge((bH,gH,rH))\n",
    "cv2.imshow('dst_rgb',result)\n",
    "cv2.waitKey(0)"
   ],
   "metadata": {
    "collapsed": false,
    "ExecuteTime": {
     "end_time": "2024-04-10T10:32:31.093301100Z",
     "start_time": "2024-04-10T10:32:22.660672400Z"
    }
   },
   "id": "59eb4ce932aa4dc5"
  },
  {
   "cell_type": "code",
   "execution_count": null,
   "outputs": [],
   "source": [],
   "metadata": {
    "collapsed": false
   },
   "id": "c05f22b1441736c2"
  }
 ],
 "metadata": {
  "kernelspec": {
   "display_name": "Python 3",
   "language": "python",
   "name": "python3"
  },
  "language_info": {
   "codemirror_mode": {
    "name": "ipython",
    "version": 2
   },
   "file_extension": ".py",
   "mimetype": "text/x-python",
   "name": "python",
   "nbconvert_exporter": "python",
   "pygments_lexer": "ipython2",
   "version": "2.7.6"
  }
 },
 "nbformat": 4,
 "nbformat_minor": 5
}
