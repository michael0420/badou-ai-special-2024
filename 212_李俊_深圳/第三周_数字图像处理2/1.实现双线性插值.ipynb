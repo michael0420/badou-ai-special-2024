{
 "cells": [
  {
   "cell_type": "code",
   "execution_count": 3,
   "outputs": [],
   "source": [
    "import  numpy as  np\n",
    "import cv2"
   ],
   "metadata": {
    "collapsed": false,
    "ExecuteTime": {
     "end_time": "2024-04-10T09:57:47.404289600Z",
     "start_time": "2024-04-10T09:57:45.245214400Z"
    }
   },
   "id": "62db3087eeb958c9"
  },
  {
   "cell_type": "code",
   "execution_count": 9,
   "outputs": [],
   "source": [
    "#定义双线性插值函数\n",
    "def bilinear_interpolation(img,out_dim):\n",
    "    src_h, src_w, channel = img.shape\n",
    "    dst_h, dst_w = out_dim[1], out_dim[0]\n",
    "    print (\"src_h, src_w = \", src_h, src_w)\n",
    "    print (\"dst_h, dst_w = \", dst_h, dst_w)\n",
    "    if src_h == dst_h and src_w == dst_w:\n",
    "        return img.copy()\n",
    "    dst_img = np.zeros((dst_h,dst_w,3),dtype=np.uint8)\n",
    "    scale_x, scale_y = float(src_w) / dst_w, float(src_h) / dst_h\n",
    "    for i in range(channel):\n",
    "        for dst_y in range(dst_h):\n",
    "            for dst_x in range(dst_w):\n",
    " \n",
    "                src_x = (dst_x + 0.5) * scale_x-0.5\n",
    "                src_y = (dst_y + 0.5) * scale_y-0.5\n",
    " \n",
    "                src_x0 = int(np.floor(src_x))    \n",
    "                src_x1 = min(src_x0 + 1 ,src_w - 1)\n",
    "                src_y0 = int(np.floor(src_y))\n",
    "                src_y1 = min(src_y0 + 1, src_h - 1)\n",
    " \n",
    "                temp0 = (src_x1 - src_x) * img[src_y0,src_x0,i] + (src_x - src_x0) * img[src_y0,src_x1,i]\n",
    "                temp1 = (src_x1 - src_x) * img[src_y1,src_x0,i] + (src_x - src_x0) * img[src_y1,src_x1,i]\n",
    "                dst_img[dst_y,dst_x,i] = int((src_y1 - src_y) * temp0 + (src_y - src_y0) * temp1)\n",
    " \n",
    "    return dst_img"
   ],
   "metadata": {
    "collapsed": false,
    "ExecuteTime": {
     "end_time": "2024-04-10T10:08:39.700109200Z",
     "start_time": "2024-04-10T10:08:39.675619Z"
    }
   },
   "id": "aeea24e0222e2fae"
  },
  {
   "cell_type": "code",
   "execution_count": 10,
   "outputs": [
    {
     "name": "stdout",
     "output_type": "stream",
     "text": [
      "src_h, src_w =  512 512\n",
      "dst_h, dst_w =  700 700\n"
     ]
    },
    {
     "data": {
      "text/plain": "-1"
     },
     "execution_count": 10,
     "metadata": {},
     "output_type": "execute_result"
    }
   ],
   "source": [
    "img = cv2.imread(r\"C:\\Users\\Administrator\\Desktop\\lenna.png\")\n",
    "dst = bilinear_interpolation(img,(700,700))\n",
    "cv2.imshow('bilinear interp',dst)\n",
    "cv2.waitKey()"
   ],
   "metadata": {
    "collapsed": false,
    "ExecuteTime": {
     "end_time": "2024-04-10T10:11:01.069872300Z",
     "start_time": "2024-04-10T10:08:41.494505900Z"
    }
   },
   "id": "97e468b4512e7777"
  }
 ],
 "metadata": {
  "kernelspec": {
   "display_name": "Python 3",
   "language": "python",
   "name": "python3"
  },
  "language_info": {
   "codemirror_mode": {
    "name": "ipython",
    "version": 2
   },
   "file_extension": ".py",
   "mimetype": "text/x-python",
   "name": "python",
   "nbconvert_exporter": "python",
   "pygments_lexer": "ipython2",
   "version": "2.7.6"
  }
 },
 "nbformat": 4,
 "nbformat_minor": 5
}
