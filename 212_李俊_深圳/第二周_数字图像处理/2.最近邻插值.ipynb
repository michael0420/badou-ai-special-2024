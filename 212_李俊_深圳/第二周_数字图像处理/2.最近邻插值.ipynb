{
 "cells": [
  {
   "cell_type": "code",
   "execution_count": 2,
   "outputs": [],
   "source": [
    "import cv2\n",
    "import numpy as np\n",
    "def nearest(img):\n",
    "    h,w,channels = img.shape\n",
    "    emptyImage = np.zeros((800,800,channels),np.uint8)\n",
    "    sh = 800/h\n",
    "    sw = 800/w\n",
    "    for i in range(800):\n",
    "        for j in range(800):\n",
    "            x = int(i/sh+0.5) #int强制转换，向下取整\n",
    "            y = int(j/sw+0.5)\n",
    "            emptyImage[i,j] = img[x,y]\n",
    "    return emptyImage"
   ],
   "metadata": {
    "collapsed": false,
    "ExecuteTime": {
     "end_time": "2024-03-30T05:42:28.539685200Z",
     "start_time": "2024-03-30T05:42:28.391335400Z"
    }
   },
   "id": "7ccf0636611d1df4"
  },
  {
   "cell_type": "code",
   "execution_count": 4,
   "outputs": [
    {
     "name": "stdout",
     "output_type": "stream",
     "text": [
      "[[[125 137 226]\n",
      "  [125 137 226]\n",
      "  [125 137 226]\n",
      "  ...\n",
      "  [110 130 221]\n",
      "  [ 90  99 200]\n",
      "  [ 90  99 200]]\n",
      "\n",
      " [[125 137 226]\n",
      "  [125 137 226]\n",
      "  [125 137 226]\n",
      "  ...\n",
      "  [110 130 221]\n",
      "  [ 90  99 200]\n",
      "  [ 90  99 200]]\n",
      "\n",
      " [[125 137 226]\n",
      "  [125 137 226]\n",
      "  [125 137 226]\n",
      "  ...\n",
      "  [110 130 221]\n",
      "  [ 90  99 200]\n",
      "  [ 90  99 200]]\n",
      "\n",
      " ...\n",
      "\n",
      " [[ 57  22  82]\n",
      "  [ 57  22  82]\n",
      "  [ 57  22  82]\n",
      "  ...\n",
      "  [ 81  71 181]\n",
      "  [ 81  74 185]\n",
      "  [ 81  74 185]]\n",
      "\n",
      " [[ 57  22  82]\n",
      "  [ 57  22  82]\n",
      "  [ 57  22  82]\n",
      "  ...\n",
      "  [ 81  71 181]\n",
      "  [ 81  74 185]\n",
      "  [ 81  74 185]]\n",
      "\n",
      " [[ 57  22  82]\n",
      "  [ 57  22  82]\n",
      "  [ 57  22  82]\n",
      "  ...\n",
      "  [ 81  71 181]\n",
      "  [ 81  74 185]\n",
      "  [ 81  74 185]]]\n",
      "(800, 800, 3)\n"
     ]
    }
   ],
   "source": [
    "img = cv2.imread(r\"C:\\Users\\Administrator\\Desktop\\lenna.png\")\n",
    "zoom = nearest(img)\n",
    "print(zoom)\n",
    "print(zoom.shape)"
   ],
   "metadata": {
    "collapsed": false,
    "ExecuteTime": {
     "end_time": "2024-03-30T05:42:36.137123700Z",
     "start_time": "2024-03-30T05:42:35.456861200Z"
    }
   },
   "id": "d8de0f757b9c588a"
  },
  {
   "cell_type": "code",
   "execution_count": 6,
   "outputs": [
    {
     "data": {
      "text/plain": "-1"
     },
     "execution_count": 6,
     "metadata": {},
     "output_type": "execute_result"
    }
   ],
   "source": [
    "cv2.imshow(\"nearest interp\",zoom)\n",
    "cv2.imshow(\"image\",img)\n",
    "cv2.waitKey(0)"
   ],
   "metadata": {
    "collapsed": false,
    "ExecuteTime": {
     "end_time": "2024-03-30T05:46:01.569257Z",
     "start_time": "2024-03-30T05:43:19.215279900Z"
    }
   },
   "id": "ba35fb52413d3d32"
  },
  {
   "cell_type": "code",
   "execution_count": 8,
   "outputs": [
    {
     "name": "stdout",
     "output_type": "stream",
     "text": [
      "[[[125 137 226]\n",
      "  [125 137 226]\n",
      "  [125 137 226]\n",
      "  ...\n",
      "  [110 130 221]\n",
      "  [ 90  99 200]\n",
      "  [ 90  99 200]]\n",
      "\n",
      " [[125 137 226]\n",
      "  [125 137 226]\n",
      "  [125 137 226]\n",
      "  ...\n",
      "  [110 130 221]\n",
      "  [ 90  99 200]\n",
      "  [ 90  99 200]]\n",
      "\n",
      " [[125 137 226]\n",
      "  [125 137 226]\n",
      "  [125 137 226]\n",
      "  ...\n",
      "  [110 130 221]\n",
      "  [ 90  99 200]\n",
      "  [ 90  99 200]]\n",
      "\n",
      " ...\n",
      "\n",
      " [[ 57  22  82]\n",
      "  [ 57  22  82]\n",
      "  [ 57  22  82]\n",
      "  ...\n",
      "  [ 81  71 181]\n",
      "  [ 81  74 185]\n",
      "  [ 81  74 185]]\n",
      "\n",
      " [[ 57  22  82]\n",
      "  [ 57  22  82]\n",
      "  [ 57  22  82]\n",
      "  ...\n",
      "  [ 81  71 181]\n",
      "  [ 81  74 185]\n",
      "  [ 81  74 185]]\n",
      "\n",
      " [[ 57  22  82]\n",
      "  [ 57  22  82]\n",
      "  [ 57  22  82]\n",
      "  ...\n",
      "  [ 81  71 181]\n",
      "  [ 81  74 185]\n",
      "  [ 81  74 185]]]\n"
     ]
    }
   ],
   "source": [
    "zoom1 = cv2.resize(img,(800,800),interpolation=cv2.INTER_NEAREST)\n",
    "print(zoom)"
   ],
   "metadata": {
    "collapsed": false,
    "ExecuteTime": {
     "end_time": "2024-03-30T05:46:16.546224Z",
     "start_time": "2024-03-30T05:46:16.514946300Z"
    }
   },
   "id": "2f7512eccd8d8ce8"
  },
  {
   "cell_type": "code",
   "execution_count": 10,
   "outputs": [
    {
     "name": "stdout",
     "output_type": "stream",
     "text": [
      "(800, 800, 3)\n"
     ]
    }
   ],
   "source": [
    "print(zoom.shape)"
   ],
   "metadata": {
    "collapsed": false,
    "ExecuteTime": {
     "end_time": "2024-03-30T05:46:26.745000200Z",
     "start_time": "2024-03-30T05:46:26.729374100Z"
    }
   },
   "id": "7b75d8a990bb373a"
  },
  {
   "cell_type": "code",
   "execution_count": 13,
   "outputs": [
    {
     "data": {
      "text/plain": "-1"
     },
     "execution_count": 13,
     "metadata": {},
     "output_type": "execute_result"
    }
   ],
   "source": [
    "cv2.imshow(\"nearest interp\",zoom1)\n",
    "cv2.imshow(\"image\",img)\n",
    "cv2.waitKey(0)"
   ],
   "metadata": {
    "collapsed": false,
    "ExecuteTime": {
     "end_time": "2024-03-30T05:47:07.627562600Z",
     "start_time": "2024-03-30T05:47:04.269054300Z"
    }
   },
   "id": "492b4d3d5b86887a"
  }
 ],
 "metadata": {
  "kernelspec": {
   "display_name": "Python 3",
   "language": "python",
   "name": "python3"
  },
  "language_info": {
   "codemirror_mode": {
    "name": "ipython",
    "version": 2
   },
   "file_extension": ".py",
   "mimetype": "text/x-python",
   "name": "python",
   "nbconvert_exporter": "python",
   "pygments_lexer": "ipython2",
   "version": "2.7.6"
  }
 },
 "nbformat": 4,
 "nbformat_minor": 5
}
