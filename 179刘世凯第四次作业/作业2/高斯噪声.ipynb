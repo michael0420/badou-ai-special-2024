{
 "cells": [
  {
   "cell_type": "code",
   "execution_count": 2,
   "id": "7876b66f",
   "metadata": {},
   "outputs": [
    {
     "data": {
      "text/plain": [
       "-1"
      ]
     },
     "execution_count": 2,
     "metadata": {},
     "output_type": "execute_result"
    }
   ],
   "source": [
    "import numpy as np\n",
    "import cv2\n",
    "from numpy import shape \n",
    "import random\n",
    "def GaussianNoise(src,means,sigma,percetage):\n",
    "    NoiseImg=src\n",
    "    NoiseNum=int(percetage*src.shape[0]*src.shape[1])\n",
    "    for i in range(NoiseNum):\n",
    "\n",
    "        randX=random.randint(0,src.shape[0]-1) \n",
    "        randY=random.randint(0,src.shape[1]-1)\n",
    "\n",
    "        NoiseImg[randX,randY]=NoiseImg[randX,randY]+random.gauss(means,sigma)\n",
    "\n",
    "        if  NoiseImg[randX, randY]< 0:\n",
    "            NoiseImg[randX, randY]=0\n",
    "        elif NoiseImg[randX, randY]>255:\n",
    "            NoiseImg[randX, randY]=255\n",
    "    return NoiseImg\n",
    "img = cv2.imread('lenna.png',0)\n",
    "img1 = GaussianNoise(img,2,4,0.8)\n",
    "img = cv2.imread('lenna.png')\n",
    "img2 = cv2.cvtColor(img, cv2.COLOR_BGR2GRAY)\n",
    "\n",
    "cv2.imshow('source',img2)\n",
    "cv2.imshow('lenna_GaussianNoise',img1)\n",
    "cv2.waitKey(0)"
   ]
  },
  {
   "cell_type": "code",
   "execution_count": null,
   "id": "08f2d7eb",
   "metadata": {},
   "outputs": [],
   "source": []
  }
 ],
 "metadata": {
  "kernelspec": {
   "display_name": "Python 3 (ipykernel)",
   "language": "python",
   "name": "python3"
  },
  "language_info": {
   "codemirror_mode": {
    "name": "ipython",
    "version": 3
   },
   "file_extension": ".py",
   "mimetype": "text/x-python",
   "name": "python",
   "nbconvert_exporter": "python",
   "pygments_lexer": "ipython3",
   "version": "3.7.12"
  }
 },
 "nbformat": 4,
 "nbformat_minor": 5
}
