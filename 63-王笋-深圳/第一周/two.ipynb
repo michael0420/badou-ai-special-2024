{
 "cells": [
  {
   "cell_type": "code",
   "execution_count": 4,
   "id": "initial_id",
   "metadata": {
    "collapsed": true,
    "ExecuteTime": {
     "end_time": "2024-03-26T05:58:39.829987Z",
     "start_time": "2024-03-26T05:58:39.818193Z"
    }
   },
   "outputs": [
    {
     "name": "stdout",
     "output_type": "stream",
     "text": [
      "hello world\n",
      "o\n",
      "d\n",
      "d\n",
      "d\n",
      "11\n"
     ]
    }
   ],
   "source": [
    "# 字符串\n",
    "\n",
    "my_str = 'hello world'\n",
    "print(my_str)\n",
    "\n",
    "# h e l l o\n",
    "# 0 1 2 3 4 \n",
    "# 获取字符串中的指定元素  [0]：代表索引或者下表\n",
    "print(my_str[4])\n",
    "\n",
    "# 获取最后一个元素\n",
    "print(my_str[10])\n",
    "print(my_str[-1])\n",
    "print(my_str[len(my_str)-1])\n",
    "\n",
    "# 获取字符串的长度\n",
    "print(len(my_str))"
   ]
  },
  {
   "cell_type": "code",
   "outputs": [
    {
     "name": "stdout",
     "output_type": "stream",
     "text": [
      "ello\n",
      "ello world\n",
      "hel\n",
      "hel\n"
     ]
    }
   ],
   "source": [
    "# 字符串的切片\n",
    "# h e l l o\n",
    "# 0 1 2 3 4\n",
    "\n",
    "my_str = 'hello world'\n",
    "\n",
    "print(my_str[1:5])\n",
    "# 从某个位置截取到最后\n",
    "print(my_str[1:])\n",
    "# 从开始截取到某个位置\n",
    "print(my_str[:3])\n",
    "print(my_str[0:3])"
   ],
   "metadata": {
    "collapsed": false,
    "ExecuteTime": {
     "end_time": "2024-03-26T06:42:03.571812Z",
     "start_time": "2024-03-26T06:42:03.560662Z"
    }
   },
   "id": "e6988e3511b7582",
   "execution_count": 5
  },
  {
   "cell_type": "code",
   "outputs": [
    {
     "name": "stdout",
     "output_type": "stream",
     "text": [
      "0\n",
      "-1\n",
      "HELLO WORLD\n",
      "hello world\n",
      "Hello world\n",
      "Hello World\n",
      "True\n",
      "True\n",
      "0\n",
      "True\n",
      "False\n",
      "True\n"
     ]
    }
   ],
   "source": [
    "# 字符串常见的内置函数\n",
    "# find: 检测 str 是否包含在 my_str 字符串中，如果是返回开始的索引值，否则返回-1\n",
    "my_str = 'hello world'\n",
    "print(my_str.find('hello'))    \n",
    "print(my_str.find('hw'))\n",
    "\n",
    "# 将字母全部转换成大写\n",
    "print(my_str.upper())\n",
    "\n",
    "# 将字母全部转换成小写\n",
    "print(my_str.lower())\n",
    "\n",
    "# 首字母大写\n",
    "print(my_str.capitalize())\n",
    "\n",
    "# 单词首字母大写\n",
    "print(my_str.title())\n",
    "\n",
    "# 字符串的岂是位置是否包含指定字符串\n",
    "my_str = 'http://www.baidu.com'\n",
    "print(my_str.startswith('http'))\n",
    "print(my_str.endswith('com'))\n",
    "\n",
    "# 统计字符串出现的次数\n",
    "print(my_str.count('s'))\n",
    "\n",
    "# 判断字符串是不是全是数字\n",
    "print('123'.isdigit())\n",
    "# 判断字符串是不是全是字母\n",
    "print('abcd235'.isalpha())  \n",
    "# 检测字符串是否包含数字和字母\n",
    "print('absd23'.isalnum())"
   ],
   "metadata": {
    "collapsed": false,
    "ExecuteTime": {
     "end_time": "2024-03-26T08:20:53.216454Z",
     "start_time": "2024-03-26T08:20:53.204675Z"
    }
   },
   "id": "e57a86eedb59c663",
   "execution_count": 9
  },
  {
   "cell_type": "code",
   "outputs": [
    {
     "name": "stdout",
     "output_type": "stream",
     "text": [
      "h\n",
      "e\n",
      "l\n",
      "l\n",
      "o\n",
      " \n",
      "w\n",
      "o\n",
      "r\n",
      "l\n",
      "d\n",
      "0 h\n",
      "1 e\n",
      "2 l\n",
      "3 l\n",
      "4 o\n",
      "5  \n",
      "6 w\n",
      "7 o\n",
      "8 r\n",
      "9 l\n",
      "10 d\n"
     ]
    }
   ],
   "source": [
    "# 字符串的遍历\n",
    "my_str = 'hello world'\n",
    "for char in my_str:\n",
    "    print(char)\n",
    "    \n",
    "# enumerate: 将一个可遍历的数据对象（如列表、字符串、元祖）组合为一个索引序列，同时返回数据和数据的下标（索引）\n",
    "for index,value in enumerate(my_str):\n",
    "    print(index,value)\n"
   ],
   "metadata": {
    "collapsed": false,
    "ExecuteTime": {
     "end_time": "2024-03-27T01:16:37.401611Z",
     "start_time": "2024-03-27T01:16:37.369932Z"
    }
   },
   "id": "dcb8738f8a2b7bb6",
   "execution_count": 1
  },
  {
   "cell_type": "code",
   "outputs": [
    {
     "name": "stdout",
     "output_type": "stream",
     "text": [
      "[1, 1.2, 'abc', True]\n",
      "True\n",
      "4\n",
      "True\n",
      "<class 'list'>\n",
      "[1, 1.2]\n",
      "<class 'list'>\n"
     ]
    }
   ],
   "source": [
    "# 列表\n",
    "# 定义：是一种有序的集合，可以进行添加或者删除，定义的时候卸载方括号之内，元素之间使用逗号分隔\n",
    "# 列表中的数据类型未必是相同的\n",
    "\n",
    "# 下标是从0开始的\n",
    "my_list = [1,1.2,'abc',True]\n",
    "print(my_list)  \n",
    "\n",
    "# 根据索引获取值\n",
    "print(my_list[3])\n",
    "print(len(my_list))\n",
    "# 返回最有一个元素\n",
    "print(my_list[-1])\n",
    "\n",
    "# 切片\n",
    "# 注意：使用切片前后数据类型不改变\n",
    "print(type(my_list))\n",
    "print(my_list[0:2]) # 左闭右开\n",
    "print(type(my_list[0:2]))\n"
   ],
   "metadata": {
    "collapsed": false,
    "ExecuteTime": {
     "end_time": "2024-03-27T01:46:24.671361Z",
     "start_time": "2024-03-27T01:46:24.655352Z"
    }
   },
   "id": "b7782e6d31184a81",
   "execution_count": 2
  },
  {
   "cell_type": "markdown",
   "source": [],
   "metadata": {
    "collapsed": false
   },
   "id": "f17412542e733326"
  },
  {
   "cell_type": "code",
   "outputs": [
    {
     "name": "stdout",
     "output_type": "stream",
     "text": [
      "[]\n",
      "<class 'list'>\n",
      "[1, 2]\n",
      "[1, 2, 3]\n",
      "[1, 2, 3, 4]\n",
      "['a', 1, 2, 3, 4]\n",
      "['a', 1, 2, 3, 4, 'a', 'b']\n",
      "a\n",
      "['a', 1, 2, 3, 4, 'a', 'b']\n",
      "['a', 2, 3, 4, 'a', 'b']\n",
      "[2, 3, 4, 'a', 'b']\n",
      "[]\n",
      "1\n",
      "2\n",
      "2342\n",
      "4353\n",
      "0 1\n",
      "1 2\n",
      "2 2342\n",
      "3 4353\n",
      "True\n",
      "[1, 2, 3, 4, 5, 6, 7, 8, 9, 1, 2, 3]\n",
      "[1, 2, 3, 4, 5, 6, 7, 8, 9, 1, 2, 3, [1, 2, 3]]\n"
     ]
    }
   ],
   "source": [
    "# 列表的增删改查\n",
    "\n",
    "# 空列表\n",
    "my_list = list()\n",
    "print(my_list)\n",
    "print(type(my_list))\n",
    "\n",
    "my_list = [1,2]\n",
    "print(my_list)\n",
    "\n",
    "# 元素的添加\n",
    "my_list.append(3)\n",
    "print(my_list)\n",
    "my_list.append(4)\n",
    "print(my_list)\n",
    "\n",
    "# 插入（指定位置插入元素）\n",
    "my_list.insert(0,'a')\n",
    "print(my_list)\n",
    "\n",
    "# 列表合并\n",
    "my_list2 = ['a','b']\n",
    "my_list.extend(my_list2)\n",
    "print(my_list)\n",
    "\n",
    "# 修改\n",
    "my_list[0] = 'a'\n",
    "print(my_list[0])\n",
    "print(my_list)\n",
    "\n",
    "# 删除指定数据\n",
    "my_list.remove(1) #1：指定的数据\n",
    "print(my_list)\n",
    "\n",
    "# 删除指定位置的数据\n",
    "del my_list[0]\n",
    "print(my_list)\n",
    "\n",
    "# 清空列表\n",
    "my_list.clear()\n",
    "print(my_list)\n",
    "\n",
    "# 列表的遍历\n",
    "my_list = [1,2,2342,4353]\n",
    "for i in my_list:\n",
    "    print(i)\n",
    "\n",
    "for index,value in enumerate(my_list):\n",
    "    print(index,value)\n",
    "    \n",
    "# 判断某个元素是否属于该列表\n",
    "# in : 如果存在那么结果未true,否则为false\n",
    "# not in : 如果不存在那么结果为true,否则为false\n",
    "print(6 not in my_list)\n",
    "\n",
    "# 列表嵌套列表\n",
    "my_list = [1,2,3,4,5,6,7,8,9]\n",
    "my_list2 = [1,2,3]\n",
    "my_list.extend(my_list2)\n",
    "print(my_list)\n",
    "my_list.append(my_list2)\n",
    "print(my_list)"
   ],
   "metadata": {
    "collapsed": false,
    "ExecuteTime": {
     "end_time": "2024-03-27T02:09:01.952097Z",
     "start_time": "2024-03-27T02:09:01.939585Z"
    }
   },
   "id": "25eb58ce8b674d5c",
   "execution_count": 4
  },
  {
   "cell_type": "code",
   "outputs": [
    {
     "name": "stdout",
     "output_type": "stream",
     "text": [
      "(1, 2, 3, 4, True, 6, 7, 'abc', 9)\n",
      "<class 'tuple'>\n",
      "4\n",
      "(1, 2, 3, 4, True, 6, 7, 'abc', 9)\n",
      "[3, 4]\n",
      "<class 'list'>\n",
      "4\n",
      "5\n",
      "(1, 2, [5, 4])\n",
      "1\n",
      "2\n",
      "[5, 4]\n",
      "0 1\n",
      "1 2\n",
      "2 [5, 4]\n",
      "1\n",
      "<class 'int'>\n"
     ]
    }
   ],
   "source": [
    "# 元组\n",
    "# 注意，是不能修改的，元祖使用的是小括号，其他的和列表相同\n",
    "\n",
    "my_tuple = (1,2,3,4,True,6,7,'abc',9)\n",
    "print(my_tuple)\n",
    "print(type(my_tuple))\n",
    "\n",
    "# 获取 下标是从0开始\n",
    "print(my_tuple[3])\n",
    "\n",
    "# 修改\n",
    "# my_tuple[2] = 's' # 错误的，不支持修改\n",
    "# del my_tuple[2]   # 错误的，不支持删除\n",
    "print(my_tuple)\n",
    "\n",
    "# tuple中嵌套列表\n",
    "my_tuple = (1,2,[3,4])\n",
    "print(my_tuple[2])\n",
    "print(type(my_tuple[2]))\n",
    "print(my_tuple[2][1])\n",
    "\n",
    "# 修改tuple中列表的值\n",
    "my_tuple[2][0] = 5\n",
    "print(my_tuple[2][0])\n",
    "print(my_tuple)\n",
    "\n",
    "# 遍历\n",
    "for value in my_tuple:\n",
    "    print(value)\n",
    "    \n",
    "for index,value in enumerate(my_tuple):\n",
    "    print(index,value)\n",
    "\n",
    "# 注意，如果只有一个元素，需要在末尾加上逗号\n",
    "tuple2 = (1,)\n",
    "print(tuple2)\n",
    "print(type(tuple2))"
   ],
   "metadata": {
    "collapsed": false,
    "ExecuteTime": {
     "end_time": "2024-03-27T02:35:46.964873Z",
     "start_time": "2024-03-27T02:35:46.955171Z"
    }
   },
   "id": "6cd53ccfea09cf59",
   "execution_count": 7
  },
  {
   "cell_type": "code",
   "outputs": [],
   "source": [],
   "metadata": {
    "collapsed": false
   },
   "id": "3fa155a741b88184"
  }
 ],
 "metadata": {
  "kernelspec": {
   "display_name": "Python 3",
   "language": "python",
   "name": "python3"
  },
  "language_info": {
   "codemirror_mode": {
    "name": "ipython",
    "version": 2
   },
   "file_extension": ".py",
   "mimetype": "text/x-python",
   "name": "python",
   "nbconvert_exporter": "python",
   "pygments_lexer": "ipython2",
   "version": "2.7.6"
  }
 },
 "nbformat": 4,
 "nbformat_minor": 5
}
