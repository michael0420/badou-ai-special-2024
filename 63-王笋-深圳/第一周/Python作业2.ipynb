{
 "cells": [
  {
   "cell_type": "markdown",
   "metadata": {},
   "source": [
    "### - 1.定义一个列表，并按照降序排序"
   ]
  },
  {
   "cell_type": "code",
   "execution_count": 2,
   "metadata": {},
   "outputs": [
    {
     "name": "stdout",
     "output_type": "stream",
     "text": [
      "[1, 2, 3, 6, 7]\n"
     ]
    }
   ],
   "source": [
    "my_list = [1,2,6,3,7]\n",
    "# reverse=True : 表示降序，默认不写的话表示升序\n",
    "my_list.sort(reverse=True)\n",
    "print(my_list)"
   ]
  },
  {
   "cell_type": "markdown",
   "metadata": {},
   "source": [
    "### - 2.判断是否为偶数（分别用普通函数和匿名函数实现）\n",
    "\n",
    "返回值为：True or False"
   ]
  },
  {
   "cell_type": "code",
   "execution_count": 7,
   "metadata": {},
   "outputs": [
    {
     "name": "stdout",
     "output_type": "stream",
     "text": [
      "True\n"
     ]
    }
   ],
   "source": [
    "# 普通函数\n",
    "# def is_os(num):\n",
    "#     if num % 2 == 0:\n",
    "#         return True\n",
    "#     else:\n",
    "#         return False\n",
    "# print(is_os(8))\n",
    "\n",
    "# 匿名函数\n",
    "f = lambda num:True if num % 2 == 0 else False\n",
    "re = f(2)\n",
    "print(re)"
   ]
  },
  {
   "cell_type": "markdown",
   "metadata": {},
   "source": [
    "### - 3.如何使用匿名函数对字典中的列表进行排序\n",
    "源数据：[{'name':'zs','age':20},{'name':'ls','age':19}]\n",
    "\n",
    "结果：[{'name': 'ls', 'age': 19}, {'name': 'zs', 'age': 20}]"
   ]
  },
  {
   "cell_type": "code",
   "execution_count": 12,
   "metadata": {},
   "outputs": [
    {
     "name": "stdout",
     "output_type": "stream",
     "text": [
      "[{'name': 'zs', 'age': 20}, {'name': 'ls', 'age': 19}]\n"
     ]
    }
   ],
   "source": [
    "# my_list = [{'name':'zs','age':20},{'name':'ls','age':19}]\n",
    "# my_list.sort(key=lambda item: item['age'], reverse=True)\n",
    "# print(my_list)\n",
    "\n",
    "def get_value(item):\n",
    "    return item['age']\n",
    "\n",
    "my_list.sort(key=get_value, reverse=True)\n",
    "print(my_list) "
   ]
  },
  {
   "cell_type": "markdown",
   "metadata": {},
   "source": [
    "### - 4.利用Python进行文件拷贝"
   ]
  },
  {
   "cell_type": "code",
   "execution_count": 15,
   "metadata": {},
   "outputs": [],
   "source": [
    "# 打开两个文件（ 源文件，目标文件）\n",
    "old_file = open('./source.txt', 'rb')\n",
    "new_file = open('./target.txt', 'wb')\n",
    "\n",
    "# 文件操作\n",
    "while True:\n",
    "#     1024 : 读取1024字节的数据\n",
    "    file_data = old_file.read(1024)\n",
    "#     判断数据是否读取完成\n",
    "    if len(file_data) == 0:\n",
    "        break\n",
    "    new_file.write(file_data)\n",
    "\n",
    "# 关闭文件\n",
    "old_file.close()\n",
    "new_file.close()\n",
    "        \n",
    "    "
   ]
  },
  {
   "cell_type": "markdown",
   "metadata": {},
   "source": [
    "### - 5.面向对象的三大特征？"
   ]
  },
  {
   "cell_type": "code",
   "execution_count": null,
   "metadata": {},
   "outputs": [],
   "source": [
    "继承，封装，多态\n"
   ]
  },
  {
   "cell_type": "markdown",
   "metadata": {},
   "source": [
    "### - 6.定义类class为Book，定义__init__函数和 自定义函数举例如： you(),info()"
   ]
  },
  {
   "cell_type": "code",
   "execution_count": 5,
   "metadata": {},
   "outputs": [],
   "source": [
    "# 1）__init__中，需要默认书籍名称，价格，作者 例如name = \"爵迹\",price=\"39\",author=\"郭敬明\" \n",
    "# 2）定义实例方法you()，使用输出以下字样%s为书籍名称 \"努力学习%s图书\" \n",
    "# 3）定义实例方法info()：打印书的详细信息 \"书籍名称：%s，价格：%s，作者:%s\" \n",
    "# 4）定义一个子类，继承Book类 类名：BookZi,  BookZi中不定义任何函数, pass \n",
    "# 5）定义父类创建对象 并调用you()，__init__()方法 \n",
    "# 6）定义子类创建对象 并调用info方法"
   ]
  },
  {
   "cell_type": "code",
   "execution_count": 16,
   "metadata": {},
   "outputs": [
    {
     "name": "stdout",
     "output_type": "stream",
     "text": [
      "努力学习爵迹图书\n",
      "书籍名称：爵迹，价格：39，作者:郭敬明\n"
     ]
    }
   ],
   "source": [
    "class Book():\n",
    "    def __init__(self, name = '爵迹', price = '39', author = '郭敬明'):\n",
    "        self.name = name\n",
    "        self.price = price\n",
    "        self.author = author\n",
    "    \n",
    "    def you(self):\n",
    "        print('努力学习%s图书' % self.name)\n",
    "        \n",
    "    def info(self):\n",
    "        print('书籍名称：%s，价格：%s，作者:%s' %(self.name, self.price, self.author))\n",
    "\n",
    "class BookZi(Book):\n",
    "    pass\n",
    "\n",
    "book = Book()\n",
    "book.you()\n",
    "book.__init__()\n",
    "\n",
    "boozi = BookZi()\n",
    "boozi.info()"
   ]
  },
  {
   "cell_type": "markdown",
   "metadata": {},
   "source": [
    "### - 7.使用正则表达式匹配全部字符串进行输出\n",
    "源数据：abc 123 def\n",
    "\n",
    "结果：abc 123 def"
   ]
  },
  {
   "cell_type": "code",
   "execution_count": 24,
   "metadata": {},
   "outputs": [
    {
     "name": "stdout",
     "output_type": "stream",
     "text": [
      "abc 123 def\n",
      "abc 123 def\n",
      "abc 123 def\n",
      "abc 123 def\n"
     ]
    }
   ],
   "source": [
    "import re\n",
    "\n",
    "str2 = 'abc 123 def'\n",
    "print(re.match('^abc\\s\\d\\d\\d\\sdef$', str2).group())\n",
    "print(re.match('^abc\\s\\d{3}\\sdef$', str2).group())\n",
    "\n",
    "print(re.match('^abc\\s.*\\sdef$', str2).group())\n",
    "\n",
    "print(re.match('^abc\\s(.*)\\sdef$', str2).group())"
   ]
  },
  {
   "cell_type": "markdown",
   "metadata": {},
   "source": [
    "### - 8.使用正则表达式中 sub 实现获取我们匹配的字符串，然后追加指定字符\n",
    "源数据：hello 7709 badou\n",
    "\n",
    "结果：hello 7709 789 badou"
   ]
  },
  {
   "cell_type": "code",
   "execution_count": 25,
   "metadata": {},
   "outputs": [
    {
     "name": "stdout",
     "output_type": "stream",
     "text": [
      "hello 7709 789 badou\n"
     ]
    }
   ],
   "source": [
    "import re\n",
    "\n",
    "content = 'hello 7709 badou'\n",
    "content = re.sub('(\\d+)', r'\\1 789', content)\n",
    "print(content)"
   ]
  }
 ],
 "metadata": {
  "kernelspec": {
   "display_name": "Python 3 (ipykernel)",
   "language": "python",
   "name": "python3"
  },
  "language_info": {
   "codemirror_mode": {
    "name": "ipython",
    "version": 3
   },
   "file_extension": ".py",
   "mimetype": "text/x-python",
   "name": "python",
   "nbconvert_exporter": "python",
   "pygments_lexer": "ipython3",
   "version": "3.7.11"
  }
 },
 "nbformat": 4,
 "nbformat_minor": 2
}
