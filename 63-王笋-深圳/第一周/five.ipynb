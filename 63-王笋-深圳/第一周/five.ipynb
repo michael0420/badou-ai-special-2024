{
 "cells": [
  {
   "cell_type": "code",
   "execution_count": 1,
   "id": "initial_id",
   "metadata": {
    "collapsed": true,
    "ExecuteTime": {
     "end_time": "2024-04-26T10:11:47.567518Z",
     "start_time": "2024-04-26T10:11:47.538088Z"
    }
   },
   "outputs": [
    {
     "name": "stdout",
     "output_type": "stream",
     "text": [
      "NameError: name 'num' is not defined\n",
      "有异常处理，不会影响下面的代码执行\n"
     ]
    }
   ],
   "source": [
    "# 异常： 程序运行出错，就会向上抛出，直到某个函数可以处理该异常，每种语言都有 try catch 错误处理机制\n",
    "try:\n",
    "    print(num)\n",
    "except NameError as e:\n",
    "    print('NameError:',e)\n",
    "\n",
    "print('有异常处理，不会影响下面的代码执行')"
   ]
  },
  {
   "cell_type": "code",
   "outputs": [
    {
     "name": "stdout",
     "output_type": "stream",
     "text": [
      "没有异常会执行else: 3\n",
      "有没有异常都会执行里面的代码\n",
      "有异常会执行\n",
      "重新输入数字\n",
      "有没有异常都会执行里面的代码\n",
      "没有异常会执行else: 6\n",
      "有没有异常都会执行里面的代码\n",
      "有异常会执行\n",
      "重新输入数字\n",
      "有没有异常都会执行里面的代码\n"
     ]
    }
   ],
   "source": [
    "i = 1\n",
    "while i < 5:\n",
    "    my_str = input('请输入数字：')\n",
    "    i += 1\n",
    "    try:\n",
    "        num = int(my_str) + 1\n",
    "    except Exception as e:\n",
    "        print('有异常会执行')\n",
    "        print('重新输入数字')\n",
    "    else:\n",
    "        print('没有异常会执行else:',num)\n",
    "    finally:\n",
    "        print('有没有异常都会执行里面的代码')"
   ],
   "metadata": {
    "collapsed": false,
    "ExecuteTime": {
     "end_time": "2024-03-28T11:26:05.855027Z",
     "start_time": "2024-03-28T11:25:56.363334Z"
    }
   },
   "id": "ca1de9e04f3046bf",
   "execution_count": 10
  },
  {
   "cell_type": "code",
   "outputs": [
    {
     "name": "stdout",
     "output_type": "stream",
     "text": [
      "123\n",
      "\n",
      "Please wait a moment while I gather a list of all available modules...\n"
     ]
    },
    {
     "name": "stderr",
     "output_type": "stream",
     "text": [
      "D:\\Users\\ThinkPad\\anaconda3\\Lib\\site-packages\\paramiko\\transport.py:219: CryptographyDeprecationWarning: Blowfish has been deprecated and will be removed in a future release\n",
      "  \"class\": algorithms.Blowfish,\n",
      "D:\\Users\\ThinkPad\\anaconda3\\Lib\\site-packages\\nltk\\twitter\\__init__.py:20: UserWarning: The twython library has not been installed. Some functionality from the twitter package will not be available.\n",
      "  warnings.warn(\n",
      "D:\\Users\\ThinkPad\\anaconda3\\Lib\\pkgutil.py:92: UserWarning: The numpy.array_api submodule is still experimental. See NEP 47.\n",
      "  __import__(info.name)\n",
      "D:\\Users\\ThinkPad\\anaconda3\\Lib\\site-packages\\_distutils_hack\\__init__.py:33: UserWarning: Setuptools is replacing distutils.\n",
      "  warnings.warn(\"Setuptools is replacing distutils.\")\n",
      "No QCoreApplication instance found. Application patches not applied. You have to call load_stylesheet function after instantiation of QApplication to take effect. \n"
     ]
    },
    {
     "name": "stdout",
     "output_type": "stream",
     "text": [
      "6c7190bc8b55ffe67f57__mypyc concurrent          mdurl               smtplib\n",
      "IPython             conda               menuinst            snappy\n",
      "OpenSSL             conda_build         mimetypes           sndhdr\n",
      "PIL                 conda_content_trust mistune             sniffio\n",
      "PyQt5               conda_env           mkl                 snowballstemmer\n",
      "__future__          conda_index         mkl_fft             socket\n",
      "__hello__           conda_libmamba_solver mmap                socketserver\n",
      "__phello__          conda_pack          mmapfile            socks\n",
      "_abc                conda_package_handling mmsystem            sockshandler\n",
      "_aix_support        conda_package_streaming modulefinder        sortedcontainers\n",
      "_argon2_cffi_bindings conda_token         more_itertools      soupsieve\n",
      "_ast                conda_verify        mpmath              sphinx\n",
      "_asyncio            configparser        msgpack             spyder\n",
      "_bisect             constantly          msilib              spyder_kernels\n",
      "_black_version      contextlib          msvcrt              sqlalchemy\n",
      "_blake2             contextvars         multidict           sqlite3\n",
      "_bootsubprocess     contourpy           multipledispatch    sre_compile\n",
      "_brotli             cookiecutter        multiprocessing     sre_constants\n",
      "_bz2                copy                munkres             sre_parse\n",
      "_cffi_backend       copyreg             mypy                ssl\n",
      "_codecs             cpuinfo             mypy_extensions     sspi\n",
      "_codecs_cn          crypt               mypyc               sspicon\n",
      "_codecs_hk          cryptography        nacl                stack_data\n",
      "_codecs_iso2022     cssselect           navigator_updater   stat\n",
      "_codecs_jp          csv                 nbclient            statistics\n",
      "_codecs_kr          ctypes              nbconvert           statsmodels\n",
      "_codecs_tw          curl                nbformat            streamlit\n",
      "_collections        curses              nest_asyncio        string\n",
      "_collections_abc    cwp                 netbios             stringprep\n",
      "_compat_pickle      cycler              netrc               struct\n",
      "_compression        cytoolz             networkx            subprocess\n",
      "_contextvars        dask                nltk                sunau\n",
      "_csv                dataclasses         nntplib             sympy\n",
      "_ctypes             datashader          notebook            symtable\n",
      "_ctypes_test        datetime            notebook_shim       sys\n",
      "_datetime           dateutil            nt                  sysconfig\n",
      "_decimal            dbi                 ntpath              tables\n",
      "_distutils_hack     dbm                 ntsecuritycon       tabnanny\n",
      "_elementtree        dde                 nturl2path          tabulate\n",
      "_functools          debugpy             numba               tarfile\n",
      "_hashlib            decimal             numbergen           tblib\n",
      "_heapq              decorator           numbers             telnetlib\n",
      "_imp                defusedxml          numexpr             tempfile\n",
      "_io                 diff_match_patch    numpy               tenacity\n",
      "_json               difflib             numpydoc            terminado\n",
      "_locale             dill                odbc                test\n",
      "_lsprof             dis                 one                 test_pycosat\n",
      "_lzma               distributed         opcode              text_unidecode\n",
      "_markupbase         distro              openpyxl            textdistance\n",
      "_md5                distutils           operator            textwrap\n",
      "_msi                docstring_to_markdown optparse            this\n",
      "_multibytecodec     doctest             os                  threading\n",
      "_multiprocessing    docutils            overrides           threadpoolctl\n",
      "_nsis               dotenv              packaging           three_merge\n",
      "_opcode             email               pandas              tifffile\n",
      "_operator           encodings           pandocfilters       time\n",
      "_osx_support        ensurepip           panel               timeit\n",
      "_overlapped         entrypoints         param               timer\n",
      "_pickle             enum                paramiko            tinycss2\n",
      "_plotly_future_     erfa                parsel              tkinter\n",
      "_plotly_utils       errno               parso               tldextract\n",
      "_py_abc             et_xmlfile          partd               tlz\n",
      "_pydecimal          executing           past                token\n",
      "_pyio               fastjsonschema      pathlib             tokenize\n",
      "_pytest             faulthandler        pathspec            toml\n",
      "_queue              filecmp             patsy               tomlkit\n",
      "_random             fileinput           pdb                 tomllib\n",
      "_sha1               filelock            perfmon             toolz\n",
      "_sha256             flake8              pexpect             tornado\n",
      "_sha3               flask               pickle              tqdm\n",
      "_sha512             fnmatch             pickleshare         trace\n",
      "_signal             fontTools           pickletools         traceback\n",
      "_sitebuiltins       fqdn                pip                 tracemalloc\n",
      "_socket             fractions           pipes               traitlets\n",
      "_sqlite3            frozenlist          pkce                truststore\n",
      "_sre                fsspec              pkg_resources       tty\n",
      "_ssl                ftplib              pkginfo             turtle\n",
      "_stat               functools           pkgutil             turtledemo\n",
      "_statistics         future              platform            twisted\n",
      "_string             gc                  platformdirs        two\n",
      "_strptime           genericpath         plistlib            types\n",
      "_struct             gensim              plotly              typing\n",
      "_symtable           getopt              pluggy              typing_extensions\n",
      "_system_path        getpass             ply                 tzdata\n",
      "_testbuffer         gettext             poplib              tzlocal\n",
      "_testcapi           git                 posixpath           uc_micro\n",
      "_testconsole        gitdb               pprint              ujson\n",
      "_testimportmultiple glob                profile             unicodedata\n",
      "_testinternalcapi   gmpy2               prometheus_client   unidecode\n",
      "_testmultiphase     graphlib            prompt_toolkit      unittest\n",
      "_thread             greenlet            protego             uri_template\n",
      "_threading_local    gzip                pstats              urllib\n",
      "_tkinter            h5py                psutil              urllib3\n",
      "_tokenize           hashlib             pty                 uu\n",
      "_tracemalloc        heapdict            ptyprocess          uuid\n",
      "_typing             heapq               pure_eval           validators\n",
      "_uuid               hmac                py                  venv\n",
      "_warnings           holoviews           py_compile          w3lib\n",
      "_weakref            html                pyarrow             warnings\n",
      "_weakrefset         http                pyasn1              watchdog\n",
      "_win32sysloader     hvplot              pyasn1_modules      wave\n",
      "_winapi             hyperlink           pyclbr              wcwidth\n",
      "_winxptheme         idlelib             pycodestyle         weakref\n",
      "_xxsubinterpreters  idna                pycosat             webbrowser\n",
      "_yaml               imagecodecs         pycparser           webcolors\n",
      "_zoneinfo           imageio             pyct                webencodings\n",
      "abc                 imagesize           pycurl              websocket\n",
      "adodbapi            imaplib             pydantic            werkzeug\n",
      "afxres              imblearn            pydeck              whatthepatch\n",
      "aifc                imghdr              pydispatch          wheel\n",
      "aiobotocore         imp                 pydoc               widgetsnbextension\n",
      "aiohttp             importlib           pydoc_data          win2kras\n",
      "aioitertools        importlib_metadata  pydocstyle          win32api\n",
      "aiosignal           incremental         pyexpat             win32clipboard\n",
      "alabaster           inflection          pyflakes            win32com\n",
      "altair              iniconfig           pygments            win32con\n",
      "anaconda_anon_usage inspect             pylab               win32console\n",
      "anaconda_catalogs   intake              pylint              win32cred\n",
      "anaconda_cloud_auth intervaltree        pylint_venv         win32crypt\n",
      "anaconda_navigator  io                  pyls_spyder         win32cryptcon\n",
      "anaconda_project    ipaddress           pylsp               win32ctypes\n",
      "antigravity         ipykernel           pylsp_black         win32event\n",
      "anyio               ipykernel_launcher  pylsp_jsonrpc       win32evtlog\n",
      "appdirs             ipython_genutils    pyodbc              win32evtlogutil\n",
      "archspec            ipywidgets          pyparsing           win32file\n",
      "argon2              isapi               pytest              win32gui\n",
      "argparse            isoduration         pythoncom           win32gui_struct\n",
      "array               isort               pythonjsonlogger    win32help\n",
      "arrow               isympy              pytoolconfig        win32inet\n",
      "ast                 itemadapter         pytz                win32inetcon\n",
      "astroid             itemloaders         pyviz_comms         win32job\n",
      "astropy             itertools           pywin               win32lz\n",
      "asttokens           itsdangerous        pywin32_bootstrap   win32net\n",
      "async_lru           jedi                pywin32_testutil    win32netcon\n",
      "asynchat            jellyfish           pywintypes          win32pdh\n",
      "asyncio             jinja2              pywt                win32pdhquery\n",
      "asyncore            jmespath            qdarkstyle          win32pdhutil\n",
      "atexit              joblib              qstylizer           win32pipe\n",
      "atomicwrites        json                qtawesome           win32print\n",
      "attr                json5               qtconsole           win32process\n",
      "attrs               jsonpatch           qtpy                win32profile\n",
      "audioop             jsonpointer         queue               win32ras\n",
      "automat             jsonschema          queuelib            win32rcparser\n",
      "autopep8            jsonschema_specifications quopri              win32security\n",
      "babel               jupyter             random              win32service\n",
      "backports           jupyter_client      rasutil             win32serviceutil\n",
      "base64              jupyter_console     re                  win32timezone\n",
      "bcrypt              jupyter_core        referencing         win32trace\n",
      "bdb                 jupyter_events      regcheck            win32traceutil\n",
      "binaryornot         jupyter_lsp         regex               win32transaction\n",
      "binascii            jupyter_server      regutil             win32ts\n",
      "binstar_client      jupyter_server_terminals repo_cli            win32ui\n",
      "bisect              jupyterlab          reprlib             win32uiole\n",
      "black               jupyterlab_plotly   requests            win32verstamp\n",
      "blackd              jupyterlab_pygments requests_file       win32wnet\n",
      "bleach              jupyterlab_server   requests_toolbelt   win_inet_pton\n",
      "blib2to3            jupyterlab_widgets  rfc3339_validator   winerror\n",
      "blinker             jwt                 rfc3986_validator   winioctlcon\n",
      "bokeh               keyring             rich                winnt\n",
      "boltons             keyword             rlcompleter         winperf\n",
      "botocore            kiwisolver          rope                winpty\n",
      "bottleneck          lazy_loader         rpds                winreg\n",
      "brotli              lazy_object_proxy   rtree               winsound\n",
      "bs4                 lckr_jupyterlab_variableinspector ruamel_yaml         winxpgui\n",
      "builtins            lib2to3             runpy               winxptheme\n",
      "bz2                 libarchive          s3fs                wrapt\n",
      "cProfile            libfuturize         sched               wsgiref\n",
      "cachetools          libmambapy          scipy               xarray\n",
      "calendar            libpasteurize       scrapy              xdrlib\n",
      "certifi             lief                seaborn             xlwings\n",
      "cffi                linecache           secrets             xml\n",
      "cgi                 linkify_it          select              xmlrpc\n",
      "cgitb               llvmlite            selectors           xxlimited\n",
      "chardet             lmdb                semver              xxlimited_35\n",
      "charset_normalizer  locale              send2trash          xxsubtype\n",
      "chunk               locket              service_identity    xyzservices\n",
      "click               logging             servicemanager      yaml\n",
      "cloudpickle         lxml                setuptools          yapf\n",
      "clyent              lz4                 shelve              yapftests\n",
      "cmath               lzma                shlex               yarl\n",
      "cmd                 mailbox             shutil              zict\n",
      "code                mailcap             signal              zipapp\n",
      "codecs              markdown            sipbuild            zipfile\n",
      "codeop              markdown_it         site                zipimport\n",
      "collections         markupsafe          six                 zipp\n",
      "colorama            marshal             skimage             zlib\n",
      "colorcet            math                sklearn             zmq\n",
      "colorsys            matplotlib          slugify             zoneinfo\n",
      "comm                matplotlib_inline   smart_open          zope\n",
      "commctrl            mccabe              smmap               zstandard\n",
      "compileall          mdit_py_plugins     smtpd               \n",
      "\n",
      "Enter any module name to get more help.  Or, type \"modules spam\" to search\n",
      "for modules whose name or summary contain the string \"spam\".\n"
     ]
    }
   ],
   "source": [
    "# 模块：通俗的来讲就是 .py 文件，就是一个模块  作用：管理功能代码，在代码里面可以定义变量 函数 类\n",
    "import time\n",
    "import random\n",
    "time.sleep(2)\n",
    "print('123')\n",
    "help('modules')"
   ],
   "metadata": {
    "collapsed": false,
    "ExecuteTime": {
     "end_time": "2024-03-29T01:51:11.146073Z",
     "start_time": "2024-03-29T01:49:57.003814Z"
    }
   },
   "id": "aab7827b5b3f6f50",
   "execution_count": 1
  },
  {
   "cell_type": "code",
   "outputs": [
    {
     "name": "stdout",
     "output_type": "stream",
     "text": [
      "[11, 9, 8, 7, 4, 3, 2, 1]\n",
      "True\n"
     ]
    }
   ],
   "source": [
    "# 自定义模块：import 导入别人或者自己封装好的功能的py文件\n",
    "import two\n",
    "print(two.my_list)\n",
    "\n",
    "stu = two.isEvenNumber(6)\n",
    "print(stu)"
   ],
   "metadata": {
    "collapsed": false,
    "ExecuteTime": {
     "end_time": "2024-03-29T02:42:44.306595Z",
     "start_time": "2024-03-29T02:42:44.293826Z"
    }
   },
   "id": "9e50c9340a79b1c2",
   "execution_count": 3
  },
  {
   "cell_type": "code",
   "outputs": [
    {
     "name": "stdout",
     "output_type": "stream",
     "text": [
      "hello world\n"
     ]
    }
   ],
   "source": [
    "# 模块导入的方式\n",
    "# import firstWeek # 导入整个模块（并且这两个文件在同级目录下）\n",
    "\n",
    "# from 模块名  import 功能代码   推荐使用\n",
    "# from firstWeek import two\n",
    "# from firstWeek import one\n",
    "\n",
    "# one()\n",
    "# two()\n",
    "\n",
    "# from 模块名 import * 导入模块下面所有的功能代码   不推荐使用\n",
    "# from firstWeek import *\n",
    "\n",
    "# 给模块起别名\n",
    "# from firstWeek import one as show_num\n",
    "# show_num()\n",
    "\n",
    "def show():\n",
    "    print('hello world')\n",
    "show()"
   ],
   "metadata": {
    "collapsed": false,
    "ExecuteTime": {
     "end_time": "2024-03-29T03:06:37.008607Z",
     "start_time": "2024-03-29T03:06:36.999221Z"
    }
   },
   "id": "7a34f9c0c64f7817",
   "execution_count": 11
  },
  {
   "cell_type": "code",
   "outputs": [
    {
     "name": "stdout",
     "output_type": "stream",
     "text": [
      "utf-8\n"
     ]
    }
   ],
   "source": [
    "# 文件读写\n",
    "# 1.打开文件\n",
    "# 2.对文件内容进行操作（读、写）\n",
    "# 3.关闭文件\n",
    "\n",
    "# 打开方式\n",
    "# r: 只读，文件不存在程序会崩溃，出现文件不存在的异常\n",
    "# w: 只写，会将原来的内容进行覆盖掉，如果文件不存在，会创建一个文件\n",
    "# a: 追加写入\n",
    "# b: 表示二进制的形式 常用rb: 以二进制方式打开一个文件用于只读   wb：以二进制的方式打开一个文件用于只写\n",
    "\n",
    "# w 模式\n",
    "# 打开文件\n",
    "# encoding 指定编码格式：win 写入是需要指定的，win中默认的编码格式：cp936 ->GBK\n",
    "f = open('./badou.txt','w',encoding='utf-8')\n",
    "print(f.encoding)\n",
    "\n",
    "# 操作文件\n",
    "# 注意： 文件被打开后，多次些人数据不会覆盖之前的数据\n",
    "f.write('大数据')\n",
    "f.write('工程师')\n",
    "\n",
    "# 关闭文件\n",
    "f.close()"
   ],
   "metadata": {
    "collapsed": false,
    "ExecuteTime": {
     "end_time": "2024-03-29T03:55:36.844778Z",
     "start_time": "2024-03-29T03:55:36.824977Z"
    }
   },
   "id": "442ef3a351ff595",
   "execution_count": 14
  },
  {
   "cell_type": "code",
   "outputs": [
    {
     "name": "stdout",
     "output_type": "stream",
     "text": [
      "大数据工程师\n"
     ]
    }
   ],
   "source": [
    "# r 模式\n",
    "f = open('./badou.txt','r',encoding='utf-8')\n",
    "\n",
    "# 读取数据\n",
    "content = f.read()\n",
    "print(content)\n",
    "# 关闭\n",
    "f.close()"
   ],
   "metadata": {
    "collapsed": false,
    "ExecuteTime": {
     "end_time": "2024-03-29T03:57:07.920323Z",
     "start_time": "2024-03-29T03:57:07.911815Z"
    }
   },
   "id": "f0e87e110260e57f",
   "execution_count": 15
  },
  {
   "cell_type": "code",
   "outputs": [],
   "source": [
    "# a 模式\n",
    "f = open('./badou.txt','a',encoding='utf')\n",
    "f.write(\"666\")\n",
    "f.close()"
   ],
   "metadata": {
    "collapsed": false,
    "ExecuteTime": {
     "end_time": "2024-03-29T03:58:39.001385Z",
     "start_time": "2024-03-29T03:58:38.984649Z"
    }
   },
   "id": "c129a770e295ea9d",
   "execution_count": 16
  },
  {
   "cell_type": "code",
   "outputs": [
    {
     "name": "stdout",
     "output_type": "stream",
     "text": [
      "b'\\xe5\\xa4\\xa7\\xe6\\x95\\xb0\\xe6\\x8d\\xae\\xe5\\xb7\\xa5\\xe7\\xa8\\x8b\\xe5\\xb8\\x88666' <class 'bytes'>\n",
      "大数据工程师666\n",
      "b'\\xe5\\xa4\\xa7\\xe6\\x95\\xb0\\xe6\\x8d\\xae\\xe5\\xb7\\xa5\\xe7\\xa8\\x8b\\xe5\\xb8\\x88666'\n"
     ]
    }
   ],
   "source": [
    "# rb 模式  二进制方式读取\n",
    "# 注意点，带有b 的模式都是二进制的模式，在这种模式下，不管什么系统都不要添加encoding参数\n",
    "# f = open('./badou.txt','rb',encoding='utf-8')\n",
    "f = open('./badou.txt','rb')\n",
    "content = f.read()\n",
    "print(content, type(content))\n",
    "\n",
    "# 对二进制的数据进行utf-8解码操作，将bytes类型的数据转换为str类型\n",
    "result = content.decode('utf-8')\n",
    "print(result)\n",
    "\n",
    "# 将str类型转为bytes类型，编码\n",
    "print(result.encode('utf-8'))\n",
    "\n",
    "f.close()"
   ],
   "metadata": {
    "collapsed": false,
    "ExecuteTime": {
     "end_time": "2024-03-29T06:18:09.042332Z",
     "start_time": "2024-03-29T06:18:09.028483Z"
    }
   },
   "id": "3e5c1458de8cf9cd",
   "execution_count": 18
  },
  {
   "cell_type": "code",
   "outputs": [],
   "source": [],
   "metadata": {
    "collapsed": false
   },
   "id": "86a2cc5078120587"
  }
 ],
 "metadata": {
  "kernelspec": {
   "display_name": "Python 3",
   "language": "python",
   "name": "python3"
  },
  "language_info": {
   "codemirror_mode": {
    "name": "ipython",
    "version": 2
   },
   "file_extension": ".py",
   "mimetype": "text/x-python",
   "name": "python",
   "nbconvert_exporter": "python",
   "pygments_lexer": "ipython2",
   "version": "2.7.6"
  }
 },
 "nbformat": 4,
 "nbformat_minor": 5
}
