{
 "cells": [
  {
   "cell_type": "code",
   "execution_count": 1,
   "id": "initial_id",
   "metadata": {
    "collapsed": true,
    "ExecuteTime": {
     "end_time": "2024-03-27T03:38:31.273356Z",
     "start_time": "2024-03-27T03:38:31.250744Z"
    }
   },
   "outputs": [
    {
     "name": "stdout",
     "output_type": "stream",
     "text": [
      "hello world\n"
     ]
    }
   ],
   "source": [
    "# 函数的定义，将独立功能的代码块组织成一个小模块，这就是函数 print('a') python内置函数\n",
    "\n",
    "# 语法\n",
    "# def 函数名（参数【可选】：\n",
    "#      功能代码\n",
    "#      pass 表示该函数什么也不做\n",
    "\n",
    "# 函数的定义\n",
    "def show():\n",
    "    pass\n",
    "# 功能代码\n",
    "    print('hello world')\n",
    "    \n",
    "# 函数的调用\n",
    "show()"
   ]
  },
  {
   "cell_type": "code",
   "outputs": [
    {
     "name": "stdout",
     "output_type": "stream",
     "text": [
      "\n",
      "    函数的功能：打印hello world \n",
      "    参数 num1: 无意义参数\n",
      "    \n"
     ]
    }
   ],
   "source": [
    "# 函数的文档说明\n",
    "def show(num1):\n",
    "    \"\"\"\n",
    "    函数的功能：打印hello world \n",
    "    参数 num1: 无意义参数\n",
    "    \"\"\"\n",
    "    print('hello world')\n",
    "    \n",
    "# 调用当前函数的文档说明\n",
    "print(show.__doc__)"
   ],
   "metadata": {
    "collapsed": false,
    "ExecuteTime": {
     "end_time": "2024-03-27T03:42:58.859058Z",
     "start_time": "2024-03-27T03:42:58.847196Z"
    }
   },
   "id": "94bdc6a1472084d6",
   "execution_count": 2
  },
  {
   "cell_type": "code",
   "outputs": [
    {
     "name": "stdout",
     "output_type": "stream",
     "text": [
      "hello world\n",
      "我叫：张三，年龄：32\n",
      "hello world\n",
      "我叫：阿笋，年龄：34\n"
     ]
    }
   ],
   "source": [
    "# 函数的几种类型\n",
    "\n",
    "# 无参数，没有返回值\n",
    "def show():\n",
    "    print('hello world')\n",
    "show()\n",
    "\n",
    "# 有参数，没有返回值\n",
    "# name, age 形式参数\n",
    "def show(name, age):\n",
    "    print('我叫：{0}，年龄：{1}'.format(name, age))\n",
    "show('张三',32)\n",
    "\n",
    "# 无参数，有返回值\n",
    "# return : 区分函数真正是否具有返回值，通过return 修饰\n",
    "def show():\n",
    "    str1 = 'hello world'\n",
    "    return str1\n",
    "print(show())\n",
    "\n",
    "# 有参数，有返回值\n",
    "def show(name, age):\n",
    "    return '我叫：{0}，年龄：{1}'.format(name, age)\n",
    "print(show('阿笋', 34))"
   ],
   "metadata": {
    "collapsed": false,
    "ExecuteTime": {
     "end_time": "2024-03-27T05:40:23.035835Z",
     "start_time": "2024-03-27T05:40:23.019367Z"
    }
   },
   "id": "48801dd38ba20531",
   "execution_count": 4
  },
  {
   "cell_type": "code",
   "outputs": [
    {
     "name": "stdout",
     "output_type": "stream",
     "text": [
      "b\n"
     ]
    },
    {
     "ename": "TypeError",
     "evalue": "'int' object is not callable",
     "output_type": "error",
     "traceback": [
      "\u001B[1;31m---------------------------------------------------------------------------\u001B[0m",
      "\u001B[1;31mTypeError\u001B[0m                                 Traceback (most recent call last)",
      "Cell \u001B[1;32mIn[6], line 10\u001B[0m\n\u001B[0;32m      8\u001B[0m show()\n\u001B[0;32m      9\u001B[0m show \u001B[38;5;241m=\u001B[39m \u001B[38;5;241m10\u001B[39m\n\u001B[1;32m---> 10\u001B[0m show()\n",
      "\u001B[1;31mTypeError\u001B[0m: 'int' object is not callable"
     ]
    }
   ],
   "source": [
    "# 函数的注意点\n",
    "# 1.当两个函数名称相同是，下面的函数会覆盖上面函数的结果\n",
    "# 2.函数名不能相同，也不要和变量名相同\n",
    "def show():\n",
    "    print('a')\n",
    "def show():\n",
    "    print('b')\n",
    "show()\n",
    "# show = 10\n",
    "# show()"
   ],
   "metadata": {
    "collapsed": false,
    "ExecuteTime": {
     "end_time": "2024-03-27T05:43:28.652123Z",
     "start_time": "2024-03-27T05:43:27.505778Z"
    }
   },
   "id": "d180229e54d8eb92",
   "execution_count": 6
  },
  {
   "cell_type": "code",
   "outputs": [
    {
     "name": "stdout",
     "output_type": "stream",
     "text": [
      "3\n",
      "11\n"
     ]
    }
   ],
   "source": [
    "# 缺省参数\n",
    "# 针对两个数字进行求和\n",
    "def sum_num(a=1,b=2):\n",
    "    return a + b\n",
    "print(sum_num())\n",
    "print(sum_num(5,6))"
   ],
   "metadata": {
    "collapsed": false,
    "ExecuteTime": {
     "end_time": "2024-03-27T05:47:20.579412Z",
     "start_time": "2024-03-27T05:47:20.571510Z"
    }
   },
   "id": "800fd694f2c91fd8",
   "execution_count": 8
  },
  {
   "cell_type": "code",
   "outputs": [
    {
     "name": "stdout",
     "output_type": "stream",
     "text": [
      "(1, 32, 32, 3) <class 'tuple'>\n",
      "68\n"
     ]
    }
   ],
   "source": [
    "# 函数的不定长（我也不知道你参数多少个）\n",
    "# 不定长参数包括两个，不定长必选参数，不定长关键字参数\n",
    "\n",
    "# 不定长必选参数（*args）\n",
    "def sum_num(*num):\n",
    "    print(num,type(num))\n",
    "    \n",
    "    result = 0\n",
    "    for n in num: # 遍历元组\n",
    "        result += n\n",
    "    return result\n",
    "\n",
    "print(sum_num(1,32,32,3))\n",
    "        "
   ],
   "metadata": {
    "collapsed": false,
    "ExecuteTime": {
     "end_time": "2024-03-27T05:52:59.616712Z",
     "start_time": "2024-03-27T05:52:59.607078Z"
    }
   },
   "id": "87b7e7a755ff22cf",
   "execution_count": 9
  },
  {
   "cell_type": "code",
   "outputs": [
    {
     "name": "stdout",
     "output_type": "stream",
     "text": [
      "show:{}\n",
      "{'num1': 2, 'num2': 6} <class 'dict'>\n",
      "num1 2\n",
      "num2 6\n",
      "show:{'num1': 2, 'num2': 6}\n",
      "end\n"
     ]
    }
   ],
   "source": [
    "# 不定长关键字参数（**keys）\n",
    "def sum_num(**num):\n",
    "    print(num, type(num))\n",
    "    \n",
    "    for n, d in num.items(): # 遍历字典\n",
    "        print(n, d)\n",
    "    show(**num)\n",
    "    print('end')\n",
    "# sum_num(a=1, b=2) # **keys\n",
    "# sum_num(3, 5) # *args\n",
    "\n",
    "# 该show函数如何在另一个函数中进行调用？\n",
    "def show(**num):\n",
    "    print('show:{0}'.format(num))\n",
    "    \n",
    "show()\n",
    "sum_num(num1=2, num2=6)\n",
    "# sum_num(2, 6)"
   ],
   "metadata": {
    "collapsed": false,
    "ExecuteTime": {
     "end_time": "2024-03-27T06:09:37.617624Z",
     "start_time": "2024-03-27T06:09:37.603940Z"
    }
   },
   "id": "c8b06db90d75b099",
   "execution_count": 17
  },
  {
   "cell_type": "code",
   "outputs": [
    {
     "name": "stdout",
     "output_type": "stream",
     "text": [
      "120\n",
      "120\n"
     ]
    }
   ],
   "source": [
    "# 递归函数定义：如果一个函数在函数内部调用本身，这个函数就叫递归函数\n",
    "# 注意：递归函数容易造成死循环，优点：递归使代码看起来很简洁，方便将负责的函数拆分为简单的\n",
    "# 原因：缺少结束递归的条件\n",
    "\n",
    "# def show():\n",
    "#     print(1)\n",
    "#     show()\n",
    "#     print('end')\n",
    "# show() # 死循环\n",
    "\n",
    "# 计算5的阶乘\n",
    "# 5！ = 5 * 4！\n",
    "# 4！ = 4 * 3！\n",
    "# 3！ = 3 * 2！\n",
    "# 2！ = 2 * 1！\n",
    "# 1！ = 1\n",
    "\n",
    "def num_calc(num):\n",
    "    if num == 1:\n",
    "        return 1\n",
    "    else:\n",
    "        return num * num_calc(num-1)\n",
    "    \n",
    "result = num_calc(5)\n",
    "print(result)\n",
    "\n",
    "def num_calc2(num):\n",
    "    r = 1\n",
    "    while num > 0:\n",
    "        r *= num\n",
    "        num -= 1\n",
    "    return r\n",
    "\n",
    "print(num_calc2(5))"
   ],
   "metadata": {
    "collapsed": false,
    "ExecuteTime": {
     "end_time": "2024-03-27T09:33:13.948862Z",
     "start_time": "2024-03-27T09:33:13.935953Z"
    }
   },
   "id": "a6a5734a3b49e3b8",
   "execution_count": 22
  },
  {
   "cell_type": "code",
   "outputs": [
    {
     "name": "stdout",
     "output_type": "stream",
     "text": [
      "100\n",
      "88\n",
      "88\n",
      "None\n"
     ]
    }
   ],
   "source": [
    "# 局部变量 定义：函数定义在作用域内的变量\n",
    "# 和全局的区别是：作用域不同\n",
    "\n",
    "def show():\n",
    "    # 局部变量\n",
    "    num = 100\n",
    "    print(num)\n",
    "    \n",
    "show()\n",
    "# print(num)\n",
    "\n",
    "num = 88\n",
    "def func():\n",
    "    print(num)\n",
    "func()\n",
    "print(func())"
   ],
   "metadata": {
    "collapsed": false,
    "ExecuteTime": {
     "end_time": "2024-03-27T09:48:20.495202Z",
     "start_time": "2024-03-27T09:48:20.487190Z"
    }
   },
   "id": "755506a453a02ca9",
   "execution_count": 23
  },
  {
   "cell_type": "code",
   "outputs": [
    {
     "name": "stdout",
     "output_type": "stream",
     "text": [
      "5\n",
      "5\n"
     ]
    }
   ],
   "source": [
    "# 全局变量： 再函数外面定义的变量\n",
    "\n",
    "# 全局变量命名是：尽量使用大写NUM 或者 g_num\n",
    "num = 100\n",
    "def show():\n",
    "    # 修改全局变量，通过global 关键字\n",
    "    global num\n",
    "    num = 5\n",
    "    print(num)\n",
    "\n",
    "show()\n",
    "print(num)"
   ],
   "metadata": {
    "collapsed": false,
    "ExecuteTime": {
     "end_time": "2024-03-27T10:17:04.796897Z",
     "start_time": "2024-03-27T10:17:04.788919Z"
    }
   },
   "id": "efac7096b4f2532f",
   "execution_count": 27
  },
  {
   "cell_type": "code",
   "outputs": [
    {
     "name": "stdout",
     "output_type": "stream",
     "text": [
      "1 2 3\n"
     ]
    }
   ],
   "source": [
    "# 针对多个值进行直接赋值\n",
    "a,b,c = 1,2,3\n",
    "print(a,b,c)"
   ],
   "metadata": {
    "collapsed": false,
    "ExecuteTime": {
     "end_time": "2024-03-27T10:17:53.230078Z",
     "start_time": "2024-03-27T10:17:53.221530Z"
    }
   },
   "id": "6420f64e3f527b57",
   "execution_count": 28
  },
  {
   "cell_type": "code",
   "outputs": [
    {
     "name": "stdout",
     "output_type": "stream",
     "text": [
      "6\n",
      "6\n"
     ]
    }
   ],
   "source": [
    "# 匿名函数  定义：函数没有名字，用Lambda 关键字进行定义\n",
    "# 优点：对代码进行简化，增加运行效率，特点：只适用于简单的操作，返回值不加return\n",
    "# 普通函数\n",
    "def func(a,b,c):\n",
    "    return a+b+c\n",
    "print(func(1,2,3))\n",
    "\n",
    "# 匿名函数的创建和调用\n",
    "# a,b,c: 形式参数\n",
    "# 1,2,3：实际参数\n",
    "result = (lambda a,b,c: a+b+c)(1,2,3)\n",
    "print(result)"
   ],
   "metadata": {
    "collapsed": false,
    "ExecuteTime": {
     "end_time": "2024-03-28T05:53:28.824563Z",
     "start_time": "2024-03-28T05:53:28.788470Z"
    }
   },
   "id": "d43f4b0f3813dc47",
   "execution_count": 1
  },
  {
   "cell_type": "code",
   "outputs": [],
   "source": [],
   "metadata": {
    "collapsed": false
   },
   "id": "d3bed627349f2ca6"
  }
 ],
 "metadata": {
  "kernelspec": {
   "display_name": "Python 3",
   "language": "python",
   "name": "python3"
  },
  "language_info": {
   "codemirror_mode": {
    "name": "ipython",
    "version": 2
   },
   "file_extension": ".py",
   "mimetype": "text/x-python",
   "name": "python",
   "nbconvert_exporter": "python",
   "pygments_lexer": "ipython2",
   "version": "2.7.6"
  }
 },
 "nbformat": 4,
 "nbformat_minor": 5
}
